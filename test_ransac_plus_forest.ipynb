{
 "cells": [
  {
   "cell_type": "markdown",
   "metadata": {},
   "source": [
    "# import"
   ]
  },
  {
   "cell_type": "code",
   "execution_count": 77,
   "metadata": {},
   "outputs": [],
   "source": [
    "import pandas as pd\n",
    "import numpy as np\n",
    "import h5py \n",
    "import matplotlib.pyplot as plt\n",
    "from scipy.stats import uniform\n",
    "from scipy.stats import poisson\n",
    "from sklearn import linear_model\n",
    "from sklearn.linear_model import LinearRegression\n",
    "import swifter\n",
    "import ray\n",
    "from math import sqrt\n",
    "import math\n",
    "from copy import copy\n",
    "from numpy.random import default_rng"
   ]
  },
  {
   "cell_type": "markdown",
   "metadata": {},
   "source": [
    "# read and add ambient photons\n",
    "read only fi_orb = 0, tet_orb = 180\n",
    "ambient approximately 2 times more than number of initial photons"
   ]
  },
  {
   "cell_type": "code",
   "execution_count": 58,
   "metadata": {},
   "outputs": [],
   "source": [
    "df = pd.read_hdf(\"./data/Out_fin_pad(200)_x(-1.0,1.0)_E(0.01,10000.0)_eff(0.8)_100.h5\")\n",
    "df1 = pd.read_hdf(\"./data/Out_fin_pad(200)_x(-1.0,1.0)_E(0.01,10000.0)_eff(0.8)_101.h5\")\n",
    "df.query('a > 3', inplace= True)\n",
    "df1.query('a > 3', inplace= True)\n",
    "df1 = df1.query('fi_orb == 0 and tet_orb == 90')\n",
    "df1.Num = df1.Num + df.loc[len(df) - 1, 'Num'] + 1\n",
    "df = pd.concat([df, df1], sort=False, ignore_index=True)\n",
    "df.index = np.arange(len(df))\n",
    "df['Label'] = 1\n",
    "df.drop(['inc', 'E0', 'Eg', 'Bp', 'fi_orb', 'tet_orb', 'x0', 'y0', 'z0', 'x_det', 'y_det', 'fi', 'tet'],\n",
    "axis=1, inplace = True)"
   ]
  },
  {
   "cell_type": "code",
   "execution_count": null,
   "metadata": {},
   "outputs": [],
   "source": [
    "# detect nums event with several Eg == 0\n",
    "# df1 = df.groupby('Num').apply(lambda x: x.iloc[0]['Num'] if len(x.query('Eg == 0')) > 1 else None)"
   ]
  },
  {
   "cell_type": "code",
   "execution_count": 50,
   "metadata": {},
   "outputs": [],
   "source": [
    "def delete_duplicate_photons(narr, xarr, yarr):\n",
    "    narr = np.unique(narr, axis = 1)\n",
    "    delete_arr = np.array([])\n",
    "    for i in range(len(narr[0])):\n",
    "        for j in range(len(xarr)):\n",
    "            if narr[0][i] == xarr[j] and narr[1][i] == yarr[j]:\n",
    "                delete_arr = np.append(delete_arr, int(i))\n",
    "    if (len(delete_arr) == 0):\n",
    "        return narr\n",
    "    narr = np.delete(narr, delete_arr.astype(int), axis=1)\n",
    "    return narr\n",
    "\n",
    "def add_ambient(df):\n",
    "    xarr = df.iloc[:]['x_det_pad'].to_numpy()\n",
    "    yarr = df.iloc[:]['y_det_pad'].to_numpy()\n",
    "    num_photons = poisson.rvs(mu = 2 * (df.iloc[0]['a'] - 1))\n",
    "    narr = np.array(\n",
    "        [uniform.rvs(scale = 199, size = num_photons).astype(int),\n",
    "        uniform.rvs(scale = 199, size = num_photons).astype(int)]\n",
    "    )\n",
    "    narr = delete_duplicate_photons( narr, xarr, yarr )\n",
    "    df = pd.concat([\n",
    "        df,\n",
    "        pd.DataFrame({\n",
    "            'a' : df.iloc[0]['a'],\n",
    "            'Z' : df.iloc[0]['Z'],\n",
    "            'Num' : df.iloc[0]['Num'],\n",
    "            'x_det_pad' : narr[0],\n",
    "            'y_det_pad' : narr[1],\n",
    "            'Label' : 0\n",
    "        })],\n",
    "        ignore_index = True\n",
    "        )\n",
    "    return df"
   ]
  },
  {
   "cell_type": "code",
   "execution_count": 60,
   "metadata": {},
   "outputs": [
    {
     "data": {
      "application/vnd.jupyter.widget-view+json": {
       "model_id": "145769b708c94585b5d8c274aec262b8",
       "version_major": 2,
       "version_minor": 0
      },
      "text/plain": [
       "  0%|          | 0/24 [00:00<?, ?it/s]"
      ]
     },
     "metadata": {},
     "output_type": "display_data"
    }
   ],
   "source": [
    "df = df.swifter.groupby('Num', sort=False).apply(lambda x: add_ambient(x))\n",
    "df.index = np.arange(len(df))\n",
    "ray.shutdown()"
   ]
  },
  {
   "cell_type": "markdown",
   "metadata": {},
   "source": [
    "# transform dataframe \n",
    "simultaneously transform df to this:\n",
    "1. Num event\n",
    "2. x (particle coord)\n",
    "3. y (partcle coord)\n",
    "4. linreg.coef_ (using \"clear\" dots)\n",
    "5. direction (using \"clear\" dots)\n",
    "6. linreg.coef_ (using dots from RANSAC)\n",
    "7. direction (using dots from RANSAC)\n",
    "8. Z (0 - electron, 1 - positron)"
   ]
  },
  {
   "cell_type": "markdown",
   "metadata": {},
   "source": [
    "## vars"
   ]
  },
  {
   "cell_type": "code",
   "execution_count": 73,
   "metadata": {},
   "outputs": [],
   "source": [
    "names_tranform_df = [\n",
    "    'Num',\n",
    "    'x',\n",
    "    'y', \n",
    "    'clear_linreg_coeff',\n",
    "    'clear_direction',\n",
    "    'dirty_linreg_coeff',\n",
    "    'dirty_direction',\n",
    "    'Z'\n",
    "]\n",
    "linreg = LinearRegression()\n",
    "rng = default_rng()"
   ]
  },
  {
   "cell_type": "markdown",
   "metadata": {},
   "source": [
    "## ransac and small linear regressor classes"
   ]
  },
  {
   "cell_type": "code",
   "execution_count": 114,
   "metadata": {},
   "outputs": [],
   "source": [
    "class MyException(Exception):\n",
    "    pass\n",
    "class RANSAC:\n",
    "    def __init__(self, n=10, k=100, t=0.05, d=10, model=None, loss=None, metric=None):\n",
    "        self.n = n              # `n`: Minimum number of data points to estimate parameters\n",
    "        self.k = k              # `k`: Maximum iterations allowed\n",
    "        self.t = t              # `t`: Threshold value to determine if points are fit well\n",
    "        self.d = d              # `d`: Number of close data points required to assert model fits well\n",
    "        self.model = model      # `model`: class implementing `fit` and `predict`\n",
    "        self.loss = loss        # `loss`: function of `y_true` and `y_pred` that returns a vector\n",
    "        self.metric = metric    # `metric`: function of `y_true` and `y_pred` and returns a float\n",
    "        self.best_fit = None\n",
    "        self.best_error = np.inf\n",
    "\n",
    "        self.x_inliner = None\n",
    "        self.y_inliner = None\n",
    "\n",
    "    def ray_permut_ids(self, X):\n",
    "        flag = True\n",
    "        cnt = 0\n",
    "        while flag and cnt < 10000:\n",
    "            cnt+=1\n",
    "            ids = rng.permutation(np.arange(1, X.shape[0]))\n",
    "            right = 0\n",
    "            left = 0\n",
    "            for i in range(self.n - 1):\n",
    "                if X[ids[i]][0] > X[0][0]: # TODO what if they lay on one vertical axis?\n",
    "                    right+=1\n",
    "                else:\n",
    "                    left+=1\n",
    "            if right == 0 or left == 0:\n",
    "                flag = False\n",
    "        if flag:\n",
    "            raise MyException(Exception)\n",
    "        ids = np.insert(ids, 0, 0)\n",
    "        return ids\n",
    "\n",
    "    def is_not_ray_ids(self, X, ids):\n",
    "        right = 0\n",
    "        right_arr = []\n",
    "        left = 0\n",
    "        left_arr = []\n",
    "        for i in range(ids.shape[0]):\n",
    "            if i == 0:\n",
    "                continue\n",
    "            if X[ids[i]][0] > X[0][0]: # TODO what if they lay on one vertical axis?\n",
    "                right+=1\n",
    "                right_arr.append(i)\n",
    "            else:\n",
    "                left+=1\n",
    "                left_arr.append(i)\n",
    "        if right > left: # TODO what if they are equal?\n",
    "            return np.delete(ids, left_arr)\n",
    "        return np.delete(ids, right_arr)\n",
    "\n",
    "        \n",
    "\n",
    "    def fit_logic(self, X, y):\n",
    "        for _ in range(self.k):\n",
    "            ids = self.ray_permut_ids(X)\n",
    "\n",
    "            maybe_inliers = ids[: self.n]\n",
    "\n",
    "            maybe_model = copy(self.model).fit(X[maybe_inliers], y[maybe_inliers])\n",
    "\n",
    "            thresholded = (\n",
    "                self.loss(y[ids][:], maybe_model.predict(X[ids][:]))\n",
    "                < self.t\n",
    "            )\n",
    "\n",
    "            inlier_ids = ids[:][np.flatnonzero(thresholded).flatten()]\n",
    "            if 0 not in inlier_ids:\n",
    "                continue\n",
    "            inlier_ids = self.is_not_ray_ids(X, inlier_ids)\n",
    "\n",
    "            if inlier_ids.size > self.d:\n",
    "                inlier_points = inlier_ids \n",
    "                better_model = copy(self.model).fit(X[inlier_points], y[inlier_points])\n",
    "\n",
    "                this_error = self.metric(\n",
    "                    y[inlier_points], better_model.predict(X[inlier_points])\n",
    "                )\n",
    "\n",
    "                if this_error < self.best_error:\n",
    "                    self.best_error = this_error\n",
    "                    self.best_fit = better_model\n",
    "                    i = 0\n",
    "                    while inlier_points[i] != 0:\n",
    "                        i+=1\n",
    "                    inlier_points[[0, i]] = inlier_points[[i, 0]]\n",
    "                    self.x_inliner = X[inlier_points]\n",
    "                    self.y_inliner = y[inlier_points]\n",
    "\n",
    "    def fit(self, X, y):\n",
    "        sqrt_t = sqrt(self.t)\n",
    "        self.best_fit = None\n",
    "        self.best_error = np.inf\n",
    "        while (self.best_fit == None):\n",
    "            self.fit_logic(X, y)\n",
    "            sqrt_t+=1\n",
    "            self.t = sqrt_t ** 2\n",
    "        return self\n",
    "\n",
    "    def predict(self, X):\n",
    "        return self.best_fit.predict(X)\n",
    "\n",
    "def square_error_loss(y_true, y_pred):\n",
    "    return (y_true - y_pred) ** 2\n",
    "\n",
    "\n",
    "def mean_square_error(y_true, y_pred):\n",
    "    return np.sum(square_error_loss(y_true, y_pred)) / y_true.shape[0]\n",
    "\n",
    "\n",
    "class LinearRegressor:\n",
    "    def __init__(self):\n",
    "        self.params = None\n",
    "\n",
    "    def fit(self, X: np.ndarray, y: np.ndarray):\n",
    "        r, _ = X.shape\n",
    "        X = np.hstack([np.ones((r, 1)), X])\n",
    "        self.params = np.linalg.inv(X.T @ X) @ X.T @ y\n",
    "        return self\n",
    "\n",
    "    def predict(self, X: np.ndarray):\n",
    "        r, _ = X.shape\n",
    "        X = np.hstack([np.ones((r, 1)), X])\n",
    "        return X @ self.params"
   ]
  },
  {
   "cell_type": "markdown",
   "metadata": {},
   "source": [
    "## funcs"
   ]
  },
  {
   "cell_type": "code",
   "execution_count": 70,
   "metadata": {},
   "outputs": [],
   "source": [
    "def unit_vector(vector):\n",
    "    \"\"\" Returns the unit vector of the vector.  \"\"\"\n",
    "    return vector / np.linalg.norm(vector)\n",
    "\n",
    "def angle(vec):\n",
    "    x_vec = (1, 0)\n",
    "    vec = unit_vector(vec)\n",
    "    return np.arccos(np.clip(np.dot(x_vec, vec), -1.0, 1.0))\n",
    "\n",
    "def determine_direction(x, y, x0, y0, coef):\n",
    "    if (coef[0] == 0):\n",
    "        if (y0 > y):\n",
    "            return 'left'\n",
    "        return 'right'\n",
    "    rad = angle((x0 - x, y0 - y))\n",
    "    if (rad > math.pi / 2):\n",
    "        return 'left'\n",
    "    return 'right'"
   ]
  },
  {
   "cell_type": "code",
   "execution_count": 120,
   "metadata": {},
   "outputs": [],
   "source": [
    "\n",
    "def clear_transform_logic(df):\n",
    "    linreg.fit(df.x_det_pad.to_numpy().reshape(-1, 1), df.y_det_pad)\n",
    "    x = df.iloc[0]['x_det_pad']\n",
    "    y = df.iloc[0]['y_det_pad']\n",
    "    x0 = df.iloc[-1]['x_det_pad']\n",
    "    y0 = linreg.predict(np.array(x0).reshape(-1,1))[0]\n",
    "    direction = determine_direction(x, y, x0, y0, linreg.coef_)\n",
    "    return x, y, linreg.coef_[0], direction\n",
    "\n",
    "def ransac_detect(df):\n",
    "    regressor = RANSAC(\n",
    "        n = 4,\n",
    "        d = 3,\n",
    "        k=5000,\n",
    "        t=4,\n",
    "        model=LinearRegressor(),\n",
    "        loss=square_error_loss,\n",
    "        metric=mean_square_error\n",
    "    )\n",
    "    regressor.fit(\n",
    "        df.x_det_pad.to_numpy().reshape(-1, 1),\n",
    "        df.y_det_pad.to_numpy().reshape(-1, 1)\n",
    "    )\n",
    "    _, __, coef, direction = clear_transform_logic(pd.DataFrame({\n",
    "        'x_det_pad' : regressor.x_inliner.flatten(),\n",
    "        'y_det_pad' : regressor.y_inliner.flatten()\n",
    "    }))\n",
    "    return coef, direction\n",
    "\n",
    "def transform_df(df):\n",
    "    x, y, clear_coef, clear_direction = clear_transform_logic(\n",
    "        df[df.Label == 1]\n",
    "    )\n",
    "    try:\n",
    "        dirty_coef, dirty_direction = ransac_detect(df)\n",
    "    except MyException:\n",
    "        dirty_coef = None\n",
    "        dirty_direction = None\n",
    "    if df.iloc[0]['Z'] == 1:\n",
    "        Z = 1\n",
    "    else:\n",
    "        Z = 0\n",
    "    return pd.Series(dict(zip(\n",
    "        names_tranform_df, [\n",
    "            df.iloc[0]['Num'],\n",
    "            x,\n",
    "            y,\n",
    "            clear_coef,\n",
    "            clear_direction,\n",
    "            dirty_coef,\n",
    "            dirty_direction,\n",
    "            Z\n",
    "        ]\n",
    "    )))\n"
   ]
  },
  {
   "cell_type": "markdown",
   "metadata": {},
   "source": [
    "## transfrom by event number"
   ]
  },
  {
   "cell_type": "code",
   "execution_count": 94,
   "metadata": {},
   "outputs": [
    {
     "name": "stdout",
     "output_type": "stream",
     "text": [
      "\u001b[36m(_ray_groupby_apply_chunk pid=1399)\u001b[0m 14020.0\u001b[32m [repeated 20x across cluster]\u001b[0m\n"
     ]
    }
   ],
   "source": [
    "var = df.groupby('Num').count()\n",
    "var\n",
    "ray.shutdown()"
   ]
  },
  {
   "cell_type": "code",
   "execution_count": 105,
   "metadata": {},
   "outputs": [
    {
     "data": {
      "image/png": "[encoded data removed]",
      "text/plain": [
       "<Figure size 640x480 with 1 Axes>"
      ]
     },
     "metadata": {},
     "output_type": "display_data"
    }
   ],
   "source": [
    "def plot_clear_one_element(df):\n",
    "    x = df.iloc[0]['x_det_pad']\n",
    "    y = df.iloc[0]['y_det_pad']\n",
    "    X = df.x_det_pad.to_numpy().reshape(-1, 1)\n",
    "    Y = df.y_det_pad.to_numpy().reshape(-1, 1)\n",
    "    fig, ax = plt.subplots(1, 1)\n",
    "    plt.xlim(0,200)\n",
    "    plt.ylim(0,200)\n",
    "    plt.title(f'{df.iloc[0][\"Num\"]}')\n",
    "    # ax.scatter(df[['x_det_pad']], df[['y_det_pad']])\n",
    "    ax.scatter(df[df.Label == 0][['x_det_pad']], df[df.Label == 0][['y_det_pad']])\n",
    "    ax.scatter(df[df.Label == 1][['x_det_pad']], df[df.Label == 1][['y_det_pad']], color = 'green')\n",
    "    ax.scatter([x], [y], facecolor='red')\n",
    "    plt.show()\n",
    "plot_clear_one_element(df[df.Num == 3172])"
   ]
  },
  {
   "cell_type": "code",
   "execution_count": 122,
   "metadata": {},
   "outputs": [
    {
     "data": {
      "application/vnd.jupyter.widget-view+json": {
       "model_id": "8903050bc1d04ca5a71b1e45ff0cba4c",
       "version_major": 2,
       "version_minor": 0
      },
      "text/plain": [
       "  0%|          | 0/24 [00:00<?, ?it/s]"
      ]
     },
     "metadata": {},
     "output_type": "display_data"
    },
    {
     "ename": "KeyboardInterrupt",
     "evalue": "",
     "output_type": "error",
     "traceback": [
      "\u001b[0;31m---------------------------------------------------------------------------\u001b[0m",
      "\u001b[0;31mKeyboardInterrupt\u001b[0m                         Traceback (most recent call last)",
      "\u001b[1;32m/Users/snow0w/mephi/sirius/sirius/test_ransac_plus_forest.ipynb Cell 19\u001b[0m line \u001b[0;36m2\n\u001b[1;32m      <a href='vscode-notebook-cell:/Users/snow0w/mephi/sirius/sirius/test_ransac_plus_forest.ipynb#X45sZmlsZQ%3D%3D?line=0'>1</a>\u001b[0m ray\u001b[39m.\u001b[39mshutdown()\n\u001b[0;32m----> <a href='vscode-notebook-cell:/Users/snow0w/mephi/sirius/sirius/test_ransac_plus_forest.ipynb#X45sZmlsZQ%3D%3D?line=1'>2</a>\u001b[0m newdf1 \u001b[39m=\u001b[39m df\u001b[39m.\u001b[39;49mquery(\u001b[39m'\u001b[39;49m\u001b[39mNum <= 100000\u001b[39;49m\u001b[39m'\u001b[39;49m)\u001b[39m.\u001b[39;49mswifter\u001b[39m.\u001b[39;49mgroupby(\u001b[39m'\u001b[39;49m\u001b[39mNum\u001b[39;49m\u001b[39m'\u001b[39;49m, sort\u001b[39m=\u001b[39;49m\u001b[39mFalse\u001b[39;49;00m)\u001b[39m.\u001b[39;49mapply(\n\u001b[1;32m      <a href='vscode-notebook-cell:/Users/snow0w/mephi/sirius/sirius/test_ransac_plus_forest.ipynb#X45sZmlsZQ%3D%3D?line=2'>3</a>\u001b[0m     \u001b[39mlambda\u001b[39;49;00m x: transform_df(x)\n\u001b[1;32m      <a href='vscode-notebook-cell:/Users/snow0w/mephi/sirius/sirius/test_ransac_plus_forest.ipynb#X45sZmlsZQ%3D%3D?line=3'>4</a>\u001b[0m )\n",
      "File \u001b[0;32m~/mephi/sirius/sirius/venv/lib/python3.11/site-packages/swifter/swifter.py:639\u001b[0m, in \u001b[0;36mGroupBy.apply\u001b[0;34m(self, func, *args, **kwds)\u001b[0m\n\u001b[1;32m    636\u001b[0m     \u001b[39mreturn\u001b[39;00m \u001b[39mself\u001b[39m\u001b[39m.\u001b[39m_obj_pd\u001b[39m.\u001b[39mgroupby(\u001b[39mself\u001b[39m\u001b[39m.\u001b[39m_by, axis\u001b[39m=\u001b[39m\u001b[39mself\u001b[39m\u001b[39m.\u001b[39m_axis, \u001b[39m*\u001b[39m\u001b[39m*\u001b[39m\u001b[39mself\u001b[39m\u001b[39m.\u001b[39m_grpby_kwargs)\u001b[39m.\u001b[39mapply(func, \u001b[39m*\u001b[39margs, \u001b[39m*\u001b[39m\u001b[39m*\u001b[39mkwds)\n\u001b[1;32m    638\u001b[0m \u001b[39m# Swifter logic can't accurately estimate groupby applies, so always parallelize\u001b[39;00m\n\u001b[0;32m--> 639\u001b[0m \u001b[39mreturn\u001b[39;00m \u001b[39mself\u001b[39;49m\u001b[39m.\u001b[39;49m_ray_apply(func, \u001b[39m*\u001b[39;49margs, \u001b[39m*\u001b[39;49m\u001b[39m*\u001b[39;49mkwds)\n",
      "File \u001b[0;32m~/mephi/sirius/sirius/venv/lib/python3.11/site-packages/swifter/swifter.py:626\u001b[0m, in \u001b[0;36mGroupBy._ray_apply\u001b[0;34m(self, func, *args, **kwds)\u001b[0m\n\u001b[1;32m    623\u001b[0m chunks \u001b[39m=\u001b[39m \u001b[39mself\u001b[39m\u001b[39m.\u001b[39m_get_chunks()\n\u001b[1;32m    624\u001b[0m ray_submit_apply \u001b[39m=\u001b[39m partial(\u001b[39mself\u001b[39m\u001b[39m.\u001b[39m_ray_submit_apply, chunks\u001b[39m=\u001b[39mchunks, func\u001b[39m=\u001b[39mfunc, \u001b[39m*\u001b[39margs, \u001b[39m*\u001b[39m\u001b[39m*\u001b[39mkwds)\n\u001b[1;32m    625\u001b[0m apply_chunks \u001b[39m=\u001b[39m (\n\u001b[0;32m--> 626\u001b[0m     \u001b[39mself\u001b[39;49m\u001b[39m.\u001b[39;49m_ray_progress_apply(ray_submit_apply, \u001b[39mlen\u001b[39;49m(chunks)) \u001b[39mif\u001b[39;00m \u001b[39mself\u001b[39m\u001b[39m.\u001b[39m_progress_bar \u001b[39melse\u001b[39;00m ray_submit_apply()\n\u001b[1;32m    627\u001b[0m )\n\u001b[1;32m    628\u001b[0m \u001b[39mreturn\u001b[39;00m pd\u001b[39m.\u001b[39mconcat(ray\u001b[39m.\u001b[39mget(apply_chunks), axis\u001b[39m=\u001b[39m\u001b[39mself\u001b[39m\u001b[39m.\u001b[39m_axis)\u001b[39m.\u001b[39msort_index()\n",
      "File \u001b[0;32m~/mephi/sirius/sirius/venv/lib/python3.11/site-packages/swifter/swifter.py:614\u001b[0m, in \u001b[0;36mGroupBy._ray_progress_apply\u001b[0;34m(self, ray_submit_apply, total_chunks)\u001b[0m\n\u001b[1;32m    611\u001b[0m \u001b[39mimport\u001b[39;00m \u001b[39mray\u001b[39;00m\n\u001b[1;32m    613\u001b[0m \u001b[39mwith\u001b[39;00m tqdm(desc\u001b[39m=\u001b[39m\u001b[39mself\u001b[39m\u001b[39m.\u001b[39m_progress_bar_desc, total\u001b[39m=\u001b[39mtotal_chunks) \u001b[39mas\u001b[39;00m pbar:\n\u001b[0;32m--> 614\u001b[0m     apply_chunks \u001b[39m=\u001b[39m ray_submit_apply()\n\u001b[1;32m    615\u001b[0m     \u001b[39mfor\u001b[39;00m complete_chunk \u001b[39min\u001b[39;00m \u001b[39mrange\u001b[39m(total_chunks):\n\u001b[1;32m    616\u001b[0m         ray\u001b[39m.\u001b[39mwait(apply_chunks, num_returns\u001b[39m=\u001b[39mcomplete_chunk \u001b[39m+\u001b[39m \u001b[39m1\u001b[39m)\n",
      "File \u001b[0;32m~/mephi/sirius/sirius/venv/lib/python3.11/site-packages/swifter/swifter.py:608\u001b[0m, in \u001b[0;36mGroupBy._ray_submit_apply\u001b[0;34m(self, chunks, func, *args, **kwds)\u001b[0m\n\u001b[1;32m    605\u001b[0m \u001b[39mdef\u001b[39;00m \u001b[39m_ray_submit_apply\u001b[39m(\u001b[39mself\u001b[39m, chunks, func, \u001b[39m*\u001b[39margs, \u001b[39m*\u001b[39m\u001b[39m*\u001b[39mkwds):\n\u001b[1;32m    606\u001b[0m     \u001b[39mimport\u001b[39;00m \u001b[39mray\u001b[39;00m\n\u001b[0;32m--> 608\u001b[0m     \u001b[39mreturn\u001b[39;00m [\u001b[39mself\u001b[39;49m\u001b[39m.\u001b[39;49m_ray_groupby_apply_chunk\u001b[39m.\u001b[39;49mremote(\u001b[39mself\u001b[39;49m, ray\u001b[39m.\u001b[39;49mput(chunk), func, \u001b[39m*\u001b[39;49margs, \u001b[39m*\u001b[39;49m\u001b[39m*\u001b[39;49mkwds) \u001b[39mfor\u001b[39;49;00m chunk \u001b[39min\u001b[39;49;00m chunks]\n",
      "File \u001b[0;32m~/mephi/sirius/sirius/venv/lib/python3.11/site-packages/swifter/swifter.py:608\u001b[0m, in \u001b[0;36m<listcomp>\u001b[0;34m(.0)\u001b[0m\n\u001b[1;32m    605\u001b[0m \u001b[39mdef\u001b[39;00m \u001b[39m_ray_submit_apply\u001b[39m(\u001b[39mself\u001b[39m, chunks, func, \u001b[39m*\u001b[39margs, \u001b[39m*\u001b[39m\u001b[39m*\u001b[39mkwds):\n\u001b[1;32m    606\u001b[0m     \u001b[39mimport\u001b[39;00m \u001b[39mray\u001b[39;00m\n\u001b[0;32m--> 608\u001b[0m     \u001b[39mreturn\u001b[39;00m [\u001b[39mself\u001b[39m\u001b[39m.\u001b[39m_ray_groupby_apply_chunk\u001b[39m.\u001b[39mremote(\u001b[39mself\u001b[39m, ray\u001b[39m.\u001b[39;49mput(chunk), func, \u001b[39m*\u001b[39margs, \u001b[39m*\u001b[39m\u001b[39m*\u001b[39mkwds) \u001b[39mfor\u001b[39;00m chunk \u001b[39min\u001b[39;00m chunks]\n",
      "File \u001b[0;32m~/mephi/sirius/sirius/venv/lib/python3.11/site-packages/ray/_private/auto_init_hook.py:21\u001b[0m, in \u001b[0;36mwrap_auto_init.<locals>.auto_init_wrapper\u001b[0;34m(*args, **kwargs)\u001b[0m\n\u001b[1;32m     19\u001b[0m \u001b[39m@wraps\u001b[39m(fn)\n\u001b[1;32m     20\u001b[0m \u001b[39mdef\u001b[39;00m \u001b[39mauto_init_wrapper\u001b[39m(\u001b[39m*\u001b[39margs, \u001b[39m*\u001b[39m\u001b[39m*\u001b[39mkwargs):\n\u001b[0;32m---> 21\u001b[0m     auto_init_ray()\n\u001b[1;32m     22\u001b[0m     \u001b[39mreturn\u001b[39;00m fn(\u001b[39m*\u001b[39margs, \u001b[39m*\u001b[39m\u001b[39m*\u001b[39mkwargs)\n",
      "File \u001b[0;32m~/mephi/sirius/sirius/venv/lib/python3.11/site-packages/ray/_private/auto_init_hook.py:12\u001b[0m, in \u001b[0;36mauto_init_ray\u001b[0;34m()\u001b[0m\n\u001b[1;32m     10\u001b[0m \u001b[39mdef\u001b[39;00m \u001b[39mauto_init_ray\u001b[39m():\n\u001b[1;32m     11\u001b[0m     \u001b[39mif\u001b[39;00m enable_auto_connect \u001b[39mand\u001b[39;00m \u001b[39mnot\u001b[39;00m ray\u001b[39m.\u001b[39mis_initialized():\n\u001b[0;32m---> 12\u001b[0m         auto_init_lock\u001b[39m.\u001b[39;49macquire()\n\u001b[1;32m     13\u001b[0m         \u001b[39mif\u001b[39;00m \u001b[39mnot\u001b[39;00m ray\u001b[39m.\u001b[39mis_initialized():\n\u001b[1;32m     14\u001b[0m             ray\u001b[39m.\u001b[39minit()\n",
      "\u001b[0;31mKeyboardInterrupt\u001b[0m: "
     ]
    }
   ],
   "source": [
    "ray.shutdown()\n",
    "newdf1 = df.query('Num <= 100000').swifter.groupby('Num', sort=False).apply(\n",
    "    lambda x: transform_df(x)\n",
    ")"
   ]
  },
  {
   "cell_type": "code",
   "execution_count": null,
   "metadata": {},
   "outputs": [
    {
     "data": {
      "application/vnd.jupyter.widget-view+json": {
       "model_id": "7526bf452f734263b7739f2734ab50b5",
       "version_major": 2,
       "version_minor": 0
      },
      "text/plain": [
       "  0%|          | 0/24 [00:00<?, ?it/s]"
      ]
     },
     "metadata": {},
     "output_type": "display_data"
    },
    {
     "name": "stderr",
     "output_type": "stream",
     "text": [
      "2024-02-03 00:52:50,842\tINFO worker.py:1715 -- Started a local Ray instance. View the dashboard at \u001b[1m\u001b[32mhttp://127.0.0.1:8265 \u001b[39m\u001b[22m\n"
     ]
    },
    {
     "name": "stdout",
     "output_type": "stream",
     "text": [
      "\u001b[36m(_ray_groupby_apply_chunk pid=1395)\u001b[0m 37545.0\n",
      "\u001b[36m(_ray_groupby_apply_chunk pid=1397)\u001b[0m 16736.0\u001b[32m [repeated 95x across cluster]\u001b[0m\n",
      "\u001b[36m(_ray_groupby_apply_chunk pid=1397)\u001b[0m 16748.0\u001b[32m [repeated 87x across cluster]\u001b[0m\n",
      "\u001b[36m(_ray_groupby_apply_chunk pid=1399)\u001b[0m 12596.0\u001b[32m [repeated 88x across cluster]\u001b[0m\n",
      "\u001b[36m(_ray_groupby_apply_chunk pid=1396)\u001b[0m 21018.0\u001b[32m [repeated 86x across cluster]\u001b[0m\n",
      "\u001b[36m(_ray_groupby_apply_chunk pid=1396)\u001b[0m 21029.0\u001b[32m [repeated 74x across cluster]\u001b[0m\n",
      "\u001b[36m(_ray_groupby_apply_chunk pid=1401)\u001b[0m 8478.0\u001b[32m [repeated 83x across cluster]\u001b[0m\n",
      "\u001b[36m(_ray_groupby_apply_chunk pid=1391)\u001b[0m 25184.0\u001b[32m [repeated 83x across cluster]\u001b[0m\n",
      "\u001b[36m(_ray_groupby_apply_chunk pid=1398)\u001b[0m 29352.0\u001b[32m [repeated 74x across cluster]\u001b[0m\n",
      "\u001b[36m(_ray_groupby_apply_chunk pid=1402)\u001b[0m 4269.0\u001b[32m [repeated 94x across cluster]\u001b[0m\n",
      "\u001b[36m(_ray_groupby_apply_chunk pid=1396)\u001b[0m 21107.0\u001b[32m [repeated 86x across cluster]\u001b[0m\n",
      "\u001b[36m(_ray_groupby_apply_chunk pid=1395)\u001b[0m 37646.0\u001b[32m [repeated 67x across cluster]\u001b[0m\n",
      "\u001b[36m(_ray_groupby_apply_chunk pid=1394)\u001b[0m 41831.0\u001b[32m [repeated 70x across cluster]\u001b[0m\n",
      "\u001b[36m(_ray_groupby_apply_chunk pid=1396)\u001b[0m 21129.0\u001b[32m [repeated 65x across cluster]\u001b[0m\n",
      "\u001b[36m(_ray_groupby_apply_chunk pid=1395)\u001b[0m 37685.0\u001b[32m [repeated 61x across cluster]\u001b[0m\n",
      "\u001b[36m(_ray_groupby_apply_chunk pid=1401)\u001b[0m 8576.0\u001b[32m [repeated 69x across cluster]\u001b[0m\n",
      "\u001b[36m(_ray_groupby_apply_chunk pid=1402)\u001b[0m 4348.0\u001b[32m [repeated 90x across cluster]\u001b[0m\n",
      "\u001b[36m(_ray_groupby_apply_chunk pid=1399)\u001b[0m 12631.0\u001b[32m [repeated 85x across cluster]\u001b[0m\n",
      "\u001b[36m(_ray_groupby_apply_chunk pid=1402)\u001b[0m 4376.0\u001b[32m [repeated 90x across cluster]\u001b[0m\n",
      "\u001b[36m(_ray_groupby_apply_chunk pid=1396)\u001b[0m 21213.0\u001b[32m [repeated 102x across cluster]\u001b[0m\n",
      "\u001b[36m(_ray_groupby_apply_chunk pid=1393)\u001b[0m 249.0\u001b[32m [repeated 69x across cluster]\u001b[0m\n",
      "\u001b[36m(_ray_groupby_apply_chunk pid=1401)\u001b[0m 8637.0\u001b[32m [repeated 64x across cluster]\u001b[0m\n",
      "\u001b[36m(_ray_groupby_apply_chunk pid=1391)\u001b[0m 25314.0\u001b[32m [repeated 68x across cluster]\u001b[0m\n",
      "\u001b[36m(_ray_groupby_apply_chunk pid=1400)\u001b[0m 46119.0\u001b[32m [repeated 87x across cluster]\u001b[0m\n",
      "\u001b[36m(_ray_groupby_apply_chunk pid=1401)\u001b[0m 8673.0\u001b[32m [repeated 74x across cluster]\u001b[0m\n",
      "\u001b[36m(_ray_groupby_apply_chunk pid=1395)\u001b[0m 37757.0\u001b[32m [repeated 74x across cluster]\u001b[0m\n",
      "\u001b[36m(_ray_groupby_apply_chunk pid=1401)\u001b[0m 8702.0\u001b[32m [repeated 66x across cluster]\u001b[0m\n",
      "\u001b[36m(_ray_groupby_apply_chunk pid=1401)\u001b[0m 8714.0\u001b[32m [repeated 81x across cluster]\u001b[0m\n",
      "\u001b[36m(_ray_groupby_apply_chunk pid=1392)\u001b[0m 33669.0\u001b[32m [repeated 74x across cluster]\u001b[0m\n",
      "\u001b[36m(_ray_groupby_apply_chunk pid=1402)\u001b[0m 4497.0\u001b[32m [repeated 73x across cluster]\u001b[0m\n",
      "\u001b[36m(_ray_groupby_apply_chunk pid=1402)\u001b[0m 4519.0\u001b[32m [repeated 71x across cluster]\u001b[0m\n",
      "\u001b[36m(_ray_groupby_apply_chunk pid=1402)\u001b[0m 4528.0\u001b[32m [repeated 66x across cluster]\u001b[0m\n",
      "\u001b[36m(_ray_groupby_apply_chunk pid=1401)\u001b[0m 8773.0\u001b[32m [repeated 79x across cluster]\u001b[0m\n",
      "\u001b[36m(_ray_groupby_apply_chunk pid=1401)\u001b[0m 8783.0\u001b[32m [repeated 70x across cluster]\u001b[0m\n",
      "\u001b[36m(_ray_groupby_apply_chunk pid=1396)\u001b[0m 21336.0\u001b[32m [repeated 75x across cluster]\u001b[0m\n",
      "\u001b[36m(_ray_groupby_apply_chunk pid=1401)\u001b[0m 8812.0\u001b[32m [repeated 77x across cluster]\u001b[0m\n",
      "\u001b[36m(_ray_groupby_apply_chunk pid=1399)\u001b[0m 12832.0\u001b[32m [repeated 77x across cluster]\u001b[0m\n",
      "\u001b[36m(_ray_groupby_apply_chunk pid=1401)\u001b[0m 8839.0\u001b[32m [repeated 63x across cluster]\u001b[0m\n",
      "\u001b[36m(_ray_groupby_apply_chunk pid=1401)\u001b[0m 8848.0\u001b[32m [repeated 62x across cluster]\u001b[0m\n",
      "\u001b[36m(_ray_groupby_apply_chunk pid=1401)\u001b[0m 8856.0\u001b[32m [repeated 66x across cluster]\u001b[0m\n",
      "\u001b[36m(_ray_groupby_apply_chunk pid=1402)\u001b[0m 4624.0\u001b[32m [repeated 48x across cluster]\u001b[0m\n",
      "\u001b[36m(_ray_groupby_apply_chunk pid=1397)\u001b[0m 17161.0\u001b[32m [repeated 55x across cluster]\u001b[0m\n",
      "\u001b[36m(_ray_groupby_apply_chunk pid=1396)\u001b[0m 21406.0\u001b[32m [repeated 63x across cluster]\u001b[0m\n",
      "\u001b[36m(_ray_groupby_apply_chunk pid=1393)\u001b[0m 511.0\u001b[32m [repeated 69x across cluster]\u001b[0m\n",
      "\u001b[36m(_ray_groupby_apply_chunk pid=1401)\u001b[0m 8913.0\u001b[32m [repeated 74x across cluster]\u001b[0m\n",
      "\u001b[36m(_ray_groupby_apply_chunk pid=1401)\u001b[0m 8923.0\u001b[32m [repeated 57x across cluster]\u001b[0m\n",
      "\u001b[36m(_ray_groupby_apply_chunk pid=1392)\u001b[0m 33880.0\u001b[32m [repeated 63x across cluster]\u001b[0m\n",
      "\u001b[36m(_ray_groupby_apply_chunk pid=1400)\u001b[0m 46213.0\u001b[32m [repeated 65x across cluster]\u001b[0m\n",
      "\u001b[36m(_ray_groupby_apply_chunk pid=1401)\u001b[0m 8965.0\u001b[32m [repeated 53x across cluster]\u001b[0m\n",
      "\u001b[36m(_ray_groupby_apply_chunk pid=1397)\u001b[0m 17250.0\u001b[32m [repeated 53x across cluster]\u001b[0m\n",
      "\u001b[36m(_ray_groupby_apply_chunk pid=1394)\u001b[0m 42161.0\u001b[32m [repeated 60x across cluster]\u001b[0m\n",
      "\u001b[36m(_ray_groupby_apply_chunk pid=1399)\u001b[0m 12912.0\u001b[32m [repeated 37x across cluster]\u001b[0m\n",
      "\u001b[36m(_ray_groupby_apply_chunk pid=1397)\u001b[0m 17268.0\u001b[32m [repeated 80x across cluster]\u001b[0m\n",
      "\u001b[36m(_ray_groupby_apply_chunk pid=1397)\u001b[0m 17283.0\u001b[32m [repeated 76x across cluster]\u001b[0m\n",
      "\u001b[36m(_ray_groupby_apply_chunk pid=1401)\u001b[0m 9022.0\u001b[32m [repeated 83x across cluster]\u001b[0m\n",
      "\u001b[36m(_ray_groupby_apply_chunk pid=1401)\u001b[0m 9036.0\u001b[32m [repeated 54x across cluster]\u001b[0m\n",
      "\u001b[36m(_ray_groupby_apply_chunk pid=1402)\u001b[0m 4780.0\u001b[32m [repeated 51x across cluster]\u001b[0m\n",
      "\u001b[36m(_ray_groupby_apply_chunk pid=1394)\u001b[0m 42244.0\u001b[32m [repeated 58x across cluster]\u001b[0m\n",
      "\u001b[36m(_ray_groupby_apply_chunk pid=1401)\u001b[0m 9071.0\u001b[32m [repeated 56x across cluster]\u001b[0m\n",
      "\u001b[36m(_ray_groupby_apply_chunk pid=1396)\u001b[0m 21472.0\u001b[32m [repeated 70x across cluster]\u001b[0m\n",
      "\u001b[36m(_ray_groupby_apply_chunk pid=1399)\u001b[0m 12970.0\u001b[32m [repeated 68x across cluster]\u001b[0m\n",
      "\u001b[36m(_ray_groupby_apply_chunk pid=1392)\u001b[0m 34022.0\u001b[32m [repeated 54x across cluster]\u001b[0m\n",
      "\u001b[36m(_ray_groupby_apply_chunk pid=1401)\u001b[0m 9130.0\u001b[32m [repeated 58x across cluster]\u001b[0m\n",
      "\u001b[36m(_ray_groupby_apply_chunk pid=1401)\u001b[0m 9140.0\u001b[32m [repeated 53x across cluster]\u001b[0m\n",
      "\u001b[36m(_ray_groupby_apply_chunk pid=1400)\u001b[0m 46299.0\u001b[32m [repeated 40x across cluster]\u001b[0m\n",
      "\u001b[36m(_ray_groupby_apply_chunk pid=1393)\u001b[0m 737.0\u001b[32m [repeated 55x across cluster]\u001b[0m\n",
      "\u001b[36m(_ray_groupby_apply_chunk pid=1401)\u001b[0m 9175.0\u001b[32m [repeated 66x across cluster]\u001b[0m\n",
      "\u001b[36m(_ray_groupby_apply_chunk pid=1401)\u001b[0m 9183.0\u001b[32m [repeated 42x across cluster]\u001b[0m\n",
      "\u001b[36m(_ray_groupby_apply_chunk pid=1401)\u001b[0m 9194.0\u001b[32m [repeated 40x across cluster]\u001b[0m\n",
      "\u001b[36m(_ray_groupby_apply_chunk pid=1400)\u001b[0m 46352.0\u001b[32m [repeated 45x across cluster]\u001b[0m\n",
      "\u001b[36m(_ray_groupby_apply_chunk pid=1393)\u001b[0m 788.0\u001b[32m [repeated 46x across cluster]\u001b[0m\n",
      "\u001b[36m(_ray_groupby_apply_chunk pid=1399)\u001b[0m 13069.0\u001b[32m [repeated 39x across cluster]\u001b[0m\n",
      "\u001b[36m(_ray_groupby_apply_chunk pid=1393)\u001b[0m 823.0\u001b[32m [repeated 54x across cluster]\u001b[0m\n",
      "\u001b[36m(_ray_groupby_apply_chunk pid=1391)\u001b[0m 25574.0\u001b[32m [repeated 69x across cluster]\u001b[0m\n",
      "\u001b[36m(_ray_groupby_apply_chunk pid=1396)\u001b[0m 21602.0\u001b[32m [repeated 68x across cluster]\u001b[0m\n",
      "\u001b[36m(_ray_groupby_apply_chunk pid=1392)\u001b[0m 34130.0\u001b[32m [repeated 66x across cluster]\u001b[0m\n",
      "\u001b[36m(_ray_groupby_apply_chunk pid=1398)\u001b[0m 29881.0\u001b[32m [repeated 48x across cluster]\u001b[0m\n",
      "\u001b[36m(_ray_groupby_apply_chunk pid=1400)\u001b[0m 46449.0\u001b[32m [repeated 31x across cluster]\u001b[0m\n",
      "\u001b[36m(_ray_groupby_apply_chunk pid=1396)\u001b[0m 21645.0\u001b[32m [repeated 32x across cluster]\u001b[0m\n",
      "\u001b[36m(_ray_groupby_apply_chunk pid=1398)\u001b[0m 29912.0\u001b[32m [repeated 39x across cluster]\u001b[0m\n",
      "\u001b[36m(_ray_groupby_apply_chunk pid=1399)\u001b[0m 13148.0\u001b[32m [repeated 48x across cluster]\u001b[0m\n",
      "\u001b[36m(_ray_groupby_apply_chunk pid=1398)\u001b[0m 29935.0\u001b[32m [repeated 50x across cluster]\u001b[0m\n",
      "\u001b[36m(_ray_groupby_apply_chunk pid=1399)\u001b[0m 13183.0\u001b[32m [repeated 65x across cluster]\u001b[0m\n",
      "\u001b[36m(_ray_groupby_apply_chunk pid=1392)\u001b[0m 34175.0\u001b[32m [repeated 69x across cluster]\u001b[0m\n",
      "\u001b[36m(_ray_groupby_apply_chunk pid=1392)\u001b[0m 34189.0\u001b[32m [repeated 55x across cluster]\u001b[0m\n",
      "\u001b[36m(_ray_groupby_apply_chunk pid=1396)\u001b[0m 21722.0\u001b[32m [repeated 60x across cluster]\u001b[0m\n",
      "\u001b[36m(_ray_groupby_apply_chunk pid=1401)\u001b[0m 9384.0\u001b[32m [repeated 47x across cluster]\u001b[0m\n",
      "\u001b[36m(_ray_groupby_apply_chunk pid=1399)\u001b[0m 13205.0\u001b[32m [repeated 63x across cluster]\u001b[0m\n",
      "\u001b[36m(_ray_groupby_apply_chunk pid=1399)\u001b[0m 13217.0\u001b[32m [repeated 53x across cluster]\u001b[0m\n",
      "\u001b[36m(_ray_groupby_apply_chunk pid=1392)\u001b[0m 34234.0\u001b[32m [repeated 60x across cluster]\u001b[0m\n",
      "\u001b[36m(_ray_groupby_apply_chunk pid=1392)\u001b[0m 34244.0\u001b[32m [repeated 50x across cluster]\u001b[0m\n",
      "\u001b[36m(_ray_groupby_apply_chunk pid=1401)\u001b[0m 9431.0\u001b[32m [repeated 46x across cluster]\u001b[0m\n",
      "\u001b[36m(_ray_groupby_apply_chunk pid=1400)\u001b[0m 46619.0\u001b[32m [repeated 67x across cluster]\u001b[0m\n",
      "\u001b[36m(_ray_groupby_apply_chunk pid=1396)\u001b[0m 21810.0\u001b[32m [repeated 66x across cluster]\u001b[0m\n",
      "\u001b[36m(_ray_groupby_apply_chunk pid=1393)\u001b[0m 1004.0\u001b[32m [repeated 43x across cluster]\u001b[0m\n",
      "\u001b[36m(_ray_groupby_apply_chunk pid=1401)\u001b[0m 9473.0\u001b[32m [repeated 54x across cluster]\u001b[0m\n",
      "\u001b[36m(_ray_groupby_apply_chunk pid=1392)\u001b[0m 34309.0\u001b[32m [repeated 52x across cluster]\u001b[0m\n",
      "\u001b[36m(_ray_groupby_apply_chunk pid=1396)\u001b[0m 21845.0\u001b[32m [repeated 49x across cluster]\u001b[0m\n",
      "\u001b[36m(_ray_groupby_apply_chunk pid=1398)\u001b[0m 30144.0\u001b[32m [repeated 62x across cluster]\u001b[0m\n",
      "\u001b[36m(_ray_groupby_apply_chunk pid=1397)\u001b[0m 17636.0\u001b[32m [repeated 52x across cluster]\u001b[0m\n",
      "\u001b[36m(_ray_groupby_apply_chunk pid=1399)\u001b[0m 13286.0\u001b[32m [repeated 56x across cluster]\u001b[0m\n",
      "\u001b[36m(_ray_groupby_apply_chunk pid=1402)\u001b[0m 5066.0\u001b[32m [repeated 67x across cluster]\u001b[0m\n",
      "\u001b[36m(_ray_groupby_apply_chunk pid=1397)\u001b[0m 17675.0\u001b[32m [repeated 51x across cluster]\u001b[0m\n",
      "\u001b[36m(_ray_groupby_apply_chunk pid=1402)\u001b[0m 5078.0\u001b[32m [repeated 33x across cluster]\u001b[0m\n",
      "\u001b[36m(_ray_groupby_apply_chunk pid=1402)\u001b[0m 5086.0\u001b[32m [repeated 45x across cluster]\u001b[0m\n",
      "\u001b[36m(_ray_groupby_apply_chunk pid=1392)\u001b[0m 34394.0\u001b[32m [repeated 50x across cluster]\u001b[0m\n",
      "\u001b[36m(_ray_groupby_apply_chunk pid=1392)\u001b[0m 34400.0\u001b[32m [repeated 54x across cluster]\u001b[0m\n",
      "\u001b[36m(_ray_groupby_apply_chunk pid=1399)\u001b[0m 13364.0\u001b[32m [repeated 43x across cluster]\u001b[0m\n",
      "\u001b[36m(_ray_groupby_apply_chunk pid=1401)\u001b[0m 9581.0\u001b[32m [repeated 58x across cluster]\u001b[0m\n",
      "\u001b[36m(_ray_groupby_apply_chunk pid=1399)\u001b[0m 13390.0\u001b[32m [repeated 61x across cluster]\u001b[0m\n",
      "\u001b[36m(_ray_groupby_apply_chunk pid=1400)\u001b[0m 46814.0\u001b[32m [repeated 49x across cluster]\u001b[0m\n",
      "\u001b[36m(_ray_groupby_apply_chunk pid=1400)\u001b[0m 46833.0\u001b[32m [repeated 56x across cluster]\u001b[0m\n",
      "\u001b[36m(_ray_groupby_apply_chunk pid=1398)\u001b[0m 30289.0\u001b[32m [repeated 41x across cluster]\u001b[0m\n",
      "\u001b[36m(_ray_groupby_apply_chunk pid=1400)\u001b[0m 46852.0\u001b[32m [repeated 48x across cluster]\u001b[0m\n",
      "\u001b[36m(_ray_groupby_apply_chunk pid=1400)\u001b[0m 46862.0\u001b[32m [repeated 45x across cluster]\u001b[0m\n",
      "\u001b[36m(_ray_groupby_apply_chunk pid=1399)\u001b[0m 13444.0\u001b[32m [repeated 70x across cluster]\u001b[0m\n",
      "\u001b[36m(_ray_groupby_apply_chunk pid=1401)\u001b[0m 9624.0\u001b[32m [repeated 59x across cluster]\u001b[0m\n",
      "\u001b[36m(_ray_groupby_apply_chunk pid=1401)\u001b[0m 9631.0\u001b[32m [repeated 68x across cluster]\u001b[0m\n",
      "\u001b[36m(_ray_groupby_apply_chunk pid=1393)\u001b[0m 1174.0\u001b[32m [repeated 61x across cluster]\u001b[0m\n",
      "\u001b[36m(_ray_groupby_apply_chunk pid=1398)\u001b[0m 30367.0\u001b[32m [repeated 50x across cluster]\u001b[0m\n",
      "\u001b[36m(_ray_groupby_apply_chunk pid=1398)\u001b[0m 30382.0\u001b[32m [repeated 39x across cluster]\u001b[0m\n",
      "\u001b[36m(_ray_groupby_apply_chunk pid=1402)\u001b[0m 5251.0\u001b[32m [repeated 47x across cluster]\u001b[0m\n",
      "\u001b[36m(_ray_groupby_apply_chunk pid=1396)\u001b[0m 22049.0\u001b[32m [repeated 56x across cluster]\u001b[0m\n",
      "\u001b[36m(_ray_groupby_apply_chunk pid=1399)\u001b[0m 13529.0\u001b[32m [repeated 56x across cluster]\u001b[0m\n",
      "\u001b[36m(_ray_groupby_apply_chunk pid=1402)\u001b[0m 5279.0\u001b[32m [repeated 54x across cluster]\u001b[0m\n",
      "\u001b[36m(_ray_groupby_apply_chunk pid=1402)\u001b[0m 5297.0\u001b[32m [repeated 52x across cluster]\u001b[0m\n",
      "\u001b[36m(_ray_groupby_apply_chunk pid=1393)\u001b[0m 1267.0\u001b[32m [repeated 45x across cluster]\u001b[0m\n",
      "\u001b[36m(_ray_groupby_apply_chunk pid=1402)\u001b[0m 5311.0\u001b[32m [repeated 48x across cluster]\u001b[0m\n",
      "\u001b[36m(_ray_groupby_apply_chunk pid=1398)\u001b[0m 30469.0\u001b[32m [repeated 36x across cluster]\u001b[0m\n",
      "\u001b[36m(_ray_groupby_apply_chunk pid=1399)\u001b[0m 13598.0\u001b[32m [repeated 31x across cluster]\u001b[0m\n",
      "\u001b[36m(_ray_groupby_apply_chunk pid=1392)\u001b[0m 34613.0\u001b[32m [repeated 31x across cluster]\u001b[0m\n",
      "\u001b[36m(_ray_groupby_apply_chunk pid=1398)\u001b[0m 30499.0\u001b[32m [repeated 45x across cluster]\u001b[0m\n",
      "\u001b[36m(_ray_groupby_apply_chunk pid=1402)\u001b[0m 5343.0\u001b[32m [repeated 53x across cluster]\u001b[0m\n",
      "\u001b[36m(_ray_groupby_apply_chunk pid=1402)\u001b[0m 5363.0\u001b[32m [repeated 65x across cluster]\u001b[0m\n",
      "\u001b[36m(_ray_groupby_apply_chunk pid=1399)\u001b[0m 13667.0\u001b[32m [repeated 59x across cluster]\u001b[0m\n",
      "\u001b[36m(_ray_groupby_apply_chunk pid=1399)\u001b[0m 13677.0\u001b[32m [repeated 37x across cluster]\u001b[0m\n",
      "\u001b[36m(_ray_groupby_apply_chunk pid=1399)\u001b[0m 13685.0\u001b[32m [repeated 45x across cluster]\u001b[0m\n",
      "\u001b[36m(_ray_groupby_apply_chunk pid=1397)\u001b[0m 17955.0\u001b[32m [repeated 60x across cluster]\u001b[0m\n",
      "\u001b[36m(_ray_groupby_apply_chunk pid=1397)\u001b[0m 17974.0\u001b[32m [repeated 54x across cluster]\u001b[0m\n",
      "\u001b[36m(_ray_groupby_apply_chunk pid=1392)\u001b[0m 34734.0\u001b[32m [repeated 62x across cluster]\u001b[0m\n",
      "\u001b[36m(_ray_groupby_apply_chunk pid=1401)\u001b[0m 9727.0\u001b[32m [repeated 64x across cluster]\u001b[0m\n",
      "\u001b[36m(_ray_groupby_apply_chunk pid=1396)\u001b[0m 22185.0\u001b[32m [repeated 63x across cluster]\u001b[0m\n",
      "\u001b[36m(_ray_groupby_apply_chunk pid=1402)\u001b[0m 5458.0\u001b[32m [repeated 54x across cluster]\u001b[0m\n",
      "\u001b[36m(_ray_groupby_apply_chunk pid=1396)\u001b[0m 22208.0\u001b[32m [repeated 53x across cluster]\u001b[0m\n",
      "\u001b[36m(_ray_groupby_apply_chunk pid=1398)\u001b[0m 30631.0\u001b[32m [repeated 40x across cluster]\u001b[0m\n",
      "\u001b[36m(_ray_groupby_apply_chunk pid=1399)\u001b[0m 13793.0\u001b[32m [repeated 44x across cluster]\u001b[0m\n",
      "\u001b[36m(_ray_groupby_apply_chunk pid=1393)\u001b[0m 1433.0\u001b[32m [repeated 35x across cluster]\u001b[0m\n",
      "\u001b[36m(_ray_groupby_apply_chunk pid=1392)\u001b[0m 34793.0\u001b[32m [repeated 49x across cluster]\u001b[0m\n",
      "\u001b[36m(_ray_groupby_apply_chunk pid=1402)\u001b[0m 5504.0\u001b[32m [repeated 41x across cluster]\u001b[0m\n",
      "\u001b[36m(_ray_groupby_apply_chunk pid=1393)\u001b[0m 1460.0\u001b[32m [repeated 35x across cluster]\u001b[0m\n",
      "\u001b[36m(_ray_groupby_apply_chunk pid=1393)\u001b[0m 1468.0\u001b[32m [repeated 23x across cluster]\u001b[0m\n",
      "\u001b[36m(_ray_groupby_apply_chunk pid=1398)\u001b[0m 30719.0\u001b[32m [repeated 47x across cluster]\u001b[0m\n",
      "\u001b[36m(_ray_groupby_apply_chunk pid=1398)\u001b[0m 30728.0\u001b[32m [repeated 49x across cluster]\u001b[0m\n",
      "\u001b[36m(_ray_groupby_apply_chunk pid=1396)\u001b[0m 22306.0\u001b[32m [repeated 36x across cluster]\u001b[0m\n",
      "\u001b[36m(_ray_groupby_apply_chunk pid=1396)\u001b[0m 22320.0\u001b[32m [repeated 45x across cluster]\u001b[0m\n",
      "\u001b[36m(_ray_groupby_apply_chunk pid=1399)\u001b[0m 13907.0\u001b[32m [repeated 36x across cluster]\u001b[0m\n",
      "\u001b[36m(_ray_groupby_apply_chunk pid=1402)\u001b[0m 5582.0\u001b[32m [repeated 28x across cluster]\u001b[0m\n",
      "\u001b[36m(_ray_groupby_apply_chunk pid=1399)\u001b[0m 13917.0\u001b[32m [repeated 29x across cluster]\u001b[0m\n",
      "\u001b[36m(_ray_groupby_apply_chunk pid=1399)\u001b[0m 13925.0\u001b[32m [repeated 28x across cluster]\u001b[0m\n",
      "\u001b[36m(_ray_groupby_apply_chunk pid=1401)\u001b[0m 9778.0\u001b[32m [repeated 17x across cluster]\u001b[0m\n",
      "\u001b[36m(_ray_groupby_apply_chunk pid=1401)\u001b[0m 9788.0\u001b[32m [repeated 28x across cluster]\u001b[0m\n",
      "\u001b[36m(_ray_groupby_apply_chunk pid=1392)\u001b[0m 34903.0\u001b[32m [repeated 42x across cluster]\u001b[0m\n",
      "\u001b[36m(_ray_groupby_apply_chunk pid=1401)\u001b[0m 9809.0\u001b[32m [repeated 35x across cluster]\u001b[0m\n"
     ]
    }
   ],
   "source": [
    "newdf2 = df.query('Num > 100000 and Num <= 200000').swifter.groupby('Num', sort=False).apply(\n",
    "    lambda x: transform_df(x)\n",
    ")"
   ]
  },
  {
   "cell_type": "code",
   "execution_count": null,
   "metadata": {},
   "outputs": [],
   "source": [
    "newdf3 = df.query('Num > 200000').groupby('Num', sort=False).apply(\n",
    "    lambda x: transform_df(x)\n",
    ")"
   ]
  }
 ],
 "metadata": {
  "kernelspec": {
   "display_name": "venv",
   "language": "python",
   "name": "python3"
  },
  "language_info": {
   "codemirror_mode": {
    "name": "ipython",
    "version": 3
   },
   "file_extension": ".py",
   "mimetype": "text/x-python",
   "name": "python",
   "nbconvert_exporter": "python",
   "pygments_lexer": "ipython3",
   "version": "3.11.7"
  }
 },
 "nbformat": 4,
 "nbformat_minor": 2
}
