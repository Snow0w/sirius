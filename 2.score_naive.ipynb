{
 "cells": [
  {
   "cell_type": "code",
   "execution_count": 1,
   "id": "9eae841e-ac00-4b1a-9b05-4e667d0640dd",
   "metadata": {},
   "outputs": [],
   "source": [
    "# prerequisites:\n",
    "# pip install -U swifter[groupby]\n",
    "import swifter \n",
    "\n",
    "import pandas as pd\n",
    "import numpy as np\n",
    "import h5py \n",
    "import matplotlib.pyplot as plt\n",
    "from scipy.stats import uniform\n",
    "from sklearn import linear_model"
   ]
  },
  {
   "cell_type": "code",
   "execution_count": 2,
   "id": "075a811b-76f7-4045-b10b-b2f5eb7bd180",
   "metadata": {},
   "outputs": [],
   "source": [
    "# HYPER-PARAMETERS \n",
    "NOISE_FACTOR = 2  # кол-во шумовых фотонов по отношению к правильным\n",
    "MINIMUM_FOTONS_NUMBER = 4  # Не рассматриваем случаи с меньшим чем MINIMUM_FOTONS_NUMBER числом фотонов\n",
    "NUMBER_OF_CASES = 1000 # Кол-во случаев для оценки\n",
    "BAND_WIDTH = 5 # Половина ширины полоски, в которой считаются фотоны\n",
    "BAND_ROTATIONS_NUMBER = 100 # число поворотов для определения оптимального угла. минимальный угол поворота = 360гр/BAND_ROTATIONS_NUMBER "
   ]
  },
  {
   "cell_type": "code",
   "execution_count": 3,
   "id": "41297e4a-7f98-4121-a0c1-bdf2de26dfe2",
   "metadata": {},
   "outputs": [],
   "source": [
    "df = pd.read_hdf(\"./data/Out_fin_pad(200)_x(-1.0,1.0)_E(0.01,10000.0)_eff(0.8)_102.h5\")"
   ]
  },
  {
   "cell_type": "code",
   "execution_count": 4,
   "id": "44b82d41-a515-4395-aa2a-737920acad74",
   "metadata": {
    "tags": []
   },
   "outputs": [],
   "source": [
    "# генерирует шум\n",
    "def generate_uniform(df, size):\n",
    "    size_df = len(df)\n",
    "    xarr = uniform.rvs(scale = 199, size = size * size_df)\n",
    "    yarr = uniform.rvs(scale = 199, size = size * size_df)\n",
    "    return pd.DataFrame({'x_det_pad': xarr.astype(int), 'y_det_pad': yarr.astype(int)})"
   ]
  },
  {
   "cell_type": "code",
   "execution_count": 5,
   "id": "b1f4da51-1ea5-42c1-a360-53ffd5921b5c",
   "metadata": {
    "tags": []
   },
   "outputs": [],
   "source": [
    "# определяет, лежит ли точка (px,py) в (верхней) полуплоскости, образуемой прямой, проходящей через (x0,y0), (x1,y1)\n",
    "def point_belongs_to_semiplane(x0,y0,x1,y1,px,py):\n",
    "    return np.cross([x1-x0, y1-y0], [px-x0,py-y0]) >= 0"
   ]
  },
  {
   "cell_type": "code",
   "execution_count": 6,
   "id": "dab149d4-6000-4028-a7d0-5fc296ef09e4",
   "metadata": {},
   "outputs": [],
   "source": [
    "# определяет, лежит ли точка в полосе шириной +-width, проходящую через точку (x0,y0) под углом alpha\n",
    "def point_belongs_to_band(px,py, x0,y0, alpha, width):\n",
    "    x1 = x0 + np.cos(alpha)\n",
    "    y1 = y0 + np.sin(alpha)\n",
    "    \n",
    "    width_x = - width * np.sin(alpha)\n",
    "    width_y = width * np.cos(alpha)\n",
    "    return (not point_belongs_to_semiplane(x0 + width_x, y0 + width_y,x1 + width_x, y1 + width_y, px, py) and\n",
    "        point_belongs_to_semiplane(x0 - width_x, y0 - width_y,x1 - width_x, y1 - width_y, px, py) and\n",
    "        not point_belongs_to_semiplane(x0 - width_x, y0 - width_y, x0 + width_x, y0 + width_y, px, py))"
   ]
  },
  {
   "cell_type": "code",
   "execution_count": 7,
   "id": "504527f9-4aab-46e1-9224-33da614f2fab",
   "metadata": {
    "tags": []
   },
   "outputs": [],
   "source": [
    "# считает кол-во фотонов, попадающих в полосу шириной +-width, проходящую через точку (x0,y0) под углом alpha\n",
    "def count_points_in_band(df, x0, y0, alpha, width):         \n",
    "    x1 = x0 + np.cos(alpha)\n",
    "    y1 = y0 + np.sin(alpha)\n",
    "    \n",
    "    width_x = - width * np.sin(alpha)\n",
    "    width_y = width * np.cos(alpha)\n",
    "   \n",
    "    count = 0   \n",
    "    for index, row in df.iterrows():\n",
    "        x = row['x_det_pad']\n",
    "        y = row['y_det_pad']\n",
    "        if (not point_belongs_to_semiplane(x0 + width_x, y0 + width_y,x1 + width_x, y1 + width_y, x, y) and\n",
    "            point_belongs_to_semiplane(x0 - width_x, y0 - width_y,x1 - width_x, y1 - width_y, x, y) and\n",
    "            not point_belongs_to_semiplane(x0 - width_x, y0 - width_y, x0 + width_x, y0 + width_y, x, y)\n",
    "           ):\n",
    "            count += 1\n",
    "    \n",
    "    return count"
   ]
  },
  {
   "cell_type": "code",
   "execution_count": 8,
   "id": "88f83f64-8a93-431f-8865-cfa724283e08",
   "metadata": {
    "tags": []
   },
   "outputs": [],
   "source": [
    "# находит оптимальный угол поворота для отдельного эксперимента путем полного перебора\n",
    "def find_max_alfa(df, x0, y0, width):\n",
    "    alpha_max = 0\n",
    "    cmax = 0\n",
    "    for alpha in np.arange(-np.pi, np.pi, 2*np.pi/BAND_ROTATIONS_NUMBER):\n",
    "        c = count_points_in_band(df, x0, y0, alpha, width)\n",
    "        if c > cmax:\n",
    "            cmax = c\n",
    "            alpha_max = alpha\n",
    "            \n",
    "    return alpha_max"
   ]
  },
  {
   "cell_type": "code",
   "execution_count": 9,
   "id": "de5ce5b9-e7d7-4591-b9e2-5796cb2a2ca1",
   "metadata": {
    "tags": []
   },
   "outputs": [],
   "source": [
    "# оцениваем точность наивного метода для конкретного эксперимента\n",
    "def evaluate_naive_method(df, width):   \n",
    "    # не рассматриваем случаи с малым числом фотонов\n",
    "    if len(df) < MINIMUM_FOTONS_NUMBER:\n",
    "        return\n",
    "    \n",
    "    # находим порождающую частицу\n",
    "    particle = df.query('Eg == 0')\n",
    "    # не рассматриваем случаи с двумя и более частицами\n",
    "    if len(particle) > 1:\n",
    "        return\n",
    "    \n",
    "    # находим координаты этой частицы\n",
    "    x0 = float(particle.iloc[0]['x_det_pad'])\n",
    "    y0 = float(particle.iloc[0]['y_det_pad'])\n",
    "       \n",
    "    # для оценки точности модели шум добавляем до определения угла поворота\n",
    "    noise = generate_uniform(df, NOISE_FACTOR)\n",
    "    df_and_noise = pd.concat([df, noise])\n",
    "    \n",
    "    # определяем нужный угол поворота\n",
    "    alpha_max = find_max_alfa(df_and_noise, x0, y0, width)\n",
    "    \n",
    "    # считаем метрики\n",
    "    TP = 0 # True Positive (TP): you predicted positive, the real value was positive\n",
    "    TN = 0 # True Negative (TN): you predicted negative, the real value was negative\n",
    "    FP = 0 # False Positive (FP): you predicted positive, the real value was negative\n",
    "    FN = 0 # False Positive (FP): you predicted positive, the real value was negative\n",
    "    for index, row in df_and_noise.iterrows():\n",
    "        if row['Eg'] == 0: # саму частицу не учитываем\n",
    "            continue\n",
    "        if point_belongs_to_band(row['x_det_pad'],row['y_det_pad'], x0,y0, alpha_max, width):\n",
    "            if np.isnan(row['Num']):\n",
    "                FP += 1\n",
    "            else:\n",
    "                TP += 1\n",
    "        else:\n",
    "            if np.isnan(row['Num']):\n",
    "                TN += 1\n",
    "            else:\n",
    "                FN += 1\n",
    "                  \n",
    "    #return [TP, TN, FP, FN]\n",
    "    return pd.DataFrame({'TP': [TP], 'TN': [TN], 'FP': [FP], 'FN': [FN]})"
   ]
  },
  {
   "cell_type": "code",
   "execution_count": 10,
   "id": "436ee481-4ae1-4d55-9f12-25e493e2103c",
   "metadata": {
    "tags": []
   },
   "outputs": [],
   "source": [
    "def plot_elements(df, low=0, up=200):\n",
    "    fig, ax = plt.subplots(figsize=(5,5))\n",
    "  \n",
    "    plt.xlim(low,up)\n",
    "    plt.ylim(low,up)\n",
    "    particle = df.query('Eg == 0')\n",
    "    df = df.drop(df[df.Eg == 0].index)\n",
    "    \n",
    "    data = df[df.Num.notnull()]\n",
    "    noise = df[df.Num.isna()]\n",
    "    \n",
    "    ax.scatter(data[['x_det_pad']], data[['y_det_pad']], s=2)\n",
    "    ax.scatter(noise[['x_det_pad']], noise[['y_det_pad']], s=1, facecolor='green')\n",
    "    ax.scatter(particle[['x_det_pad']], particle[['y_det_pad']], facecolor='red', s=2)\n",
    "    return fig, ax"
   ]
  },
  {
   "cell_type": "code",
   "execution_count": 11,
   "id": "fce56020-f2f5-4e23-9c48-e08ec07b8ba9",
   "metadata": {
    "tags": []
   },
   "outputs": [
    {
     "data": {
      "application/vnd.jupyter.widget-view+json": {
       "model_id": "cd69063117c94e048d11b89bc4ffd668",
       "version_major": 2,
       "version_minor": 0
      },
      "text/plain": [
       "  0%|          | 0/24 [00:00<?, ?it/s]"
      ]
     },
     "metadata": {},
     "output_type": "display_data"
    },
    {
     "name": "stderr",
     "output_type": "stream",
     "text": [
      "2023-12-09 22:51:50,670\tINFO worker.py:1673 -- Started a local Ray instance.\n"
     ]
    }
   ],
   "source": [
    "# группируем данные по номеру эксперимента, для каждой группы запускаем оценку\n",
    "evaluation = df.query('Num < @NUMBER_OF_CASES').swifter.groupby(\"Num\").apply(lambda x: evaluate_naive_method(x, BAND_WIDTH))"
   ]
  },
  {
   "cell_type": "code",
   "execution_count": 12,
   "id": "b6003040-3305-4fbb-9dfe-86710b4de86e",
   "metadata": {},
   "outputs": [
    {
     "data": {
      "text/html": [
       "<div>\n",
       "<style scoped>\n",
       "    .dataframe tbody tr th:only-of-type {\n",
       "        vertical-align: middle;\n",
       "    }\n",
       "\n",
       "    .dataframe tbody tr th {\n",
       "        vertical-align: top;\n",
       "    }\n",
       "\n",
       "    .dataframe thead th {\n",
       "        text-align: right;\n",
       "    }\n",
       "</style>\n",
       "<table border=\"1\" class=\"dataframe\">\n",
       "  <thead>\n",
       "    <tr style=\"text-align: right;\">\n",
       "      <th></th>\n",
       "      <th></th>\n",
       "      <th>TP</th>\n",
       "      <th>TN</th>\n",
       "      <th>FP</th>\n",
       "      <th>FN</th>\n",
       "    </tr>\n",
       "    <tr>\n",
       "      <th>Num</th>\n",
       "      <th></th>\n",
       "      <th></th>\n",
       "      <th></th>\n",
       "      <th></th>\n",
       "      <th></th>\n",
       "    </tr>\n",
       "  </thead>\n",
       "  <tbody>\n",
       "    <tr>\n",
       "      <th>0.0</th>\n",
       "      <th>0</th>\n",
       "      <td>5</td>\n",
       "      <td>12</td>\n",
       "      <td>0</td>\n",
       "      <td>0</td>\n",
       "    </tr>\n",
       "    <tr>\n",
       "      <th>1.0</th>\n",
       "      <th>0</th>\n",
       "      <td>7</td>\n",
       "      <td>18</td>\n",
       "      <td>2</td>\n",
       "      <td>2</td>\n",
       "    </tr>\n",
       "    <tr>\n",
       "      <th>2.0</th>\n",
       "      <th>0</th>\n",
       "      <td>8</td>\n",
       "      <td>17</td>\n",
       "      <td>1</td>\n",
       "      <td>0</td>\n",
       "    </tr>\n",
       "    <tr>\n",
       "      <th>3.0</th>\n",
       "      <th>0</th>\n",
       "      <td>3</td>\n",
       "      <td>8</td>\n",
       "      <td>0</td>\n",
       "      <td>0</td>\n",
       "    </tr>\n",
       "    <tr>\n",
       "      <th>4.0</th>\n",
       "      <th>0</th>\n",
       "      <td>1</td>\n",
       "      <td>7</td>\n",
       "      <td>1</td>\n",
       "      <td>2</td>\n",
       "    </tr>\n",
       "    <tr>\n",
       "      <th>...</th>\n",
       "      <th>...</th>\n",
       "      <td>...</td>\n",
       "      <td>...</td>\n",
       "      <td>...</td>\n",
       "      <td>...</td>\n",
       "    </tr>\n",
       "    <tr>\n",
       "      <th>994.0</th>\n",
       "      <th>0</th>\n",
       "      <td>6</td>\n",
       "      <td>14</td>\n",
       "      <td>0</td>\n",
       "      <td>0</td>\n",
       "    </tr>\n",
       "    <tr>\n",
       "      <th>995.0</th>\n",
       "      <th>0</th>\n",
       "      <td>3</td>\n",
       "      <td>6</td>\n",
       "      <td>2</td>\n",
       "      <td>0</td>\n",
       "    </tr>\n",
       "    <tr>\n",
       "      <th>996.0</th>\n",
       "      <th>0</th>\n",
       "      <td>1</td>\n",
       "      <td>7</td>\n",
       "      <td>3</td>\n",
       "      <td>3</td>\n",
       "    </tr>\n",
       "    <tr>\n",
       "      <th>998.0</th>\n",
       "      <th>0</th>\n",
       "      <td>3</td>\n",
       "      <td>15</td>\n",
       "      <td>3</td>\n",
       "      <td>5</td>\n",
       "    </tr>\n",
       "    <tr>\n",
       "      <th>999.0</th>\n",
       "      <th>0</th>\n",
       "      <td>5</td>\n",
       "      <td>15</td>\n",
       "      <td>3</td>\n",
       "      <td>3</td>\n",
       "    </tr>\n",
       "  </tbody>\n",
       "</table>\n",
       "<p>679 rows × 4 columns</p>\n",
       "</div>"
      ],
      "text/plain": [
       "         TP  TN  FP  FN\n",
       "Num                    \n",
       "0.0   0   5  12   0   0\n",
       "1.0   0   7  18   2   2\n",
       "2.0   0   8  17   1   0\n",
       "3.0   0   3   8   0   0\n",
       "4.0   0   1   7   1   2\n",
       "...      ..  ..  ..  ..\n",
       "994.0 0   6  14   0   0\n",
       "995.0 0   3   6   2   0\n",
       "996.0 0   1   7   3   3\n",
       "998.0 0   3  15   3   5\n",
       "999.0 0   5  15   3   3\n",
       "\n",
       "[679 rows x 4 columns]"
      ]
     },
     "execution_count": 12,
     "metadata": {},
     "output_type": "execute_result"
    }
   ],
   "source": [
    "evaluation"
   ]
  },
  {
   "cell_type": "code",
   "execution_count": 13,
   "id": "ede82c77-5a2f-4f0f-a618-dae74fe8704e",
   "metadata": {
    "tags": []
   },
   "outputs": [],
   "source": [
    "total = evaluation.sum()"
   ]
  },
  {
   "cell_type": "code",
   "execution_count": 14,
   "id": "3b744e57-b284-4364-bc91-bc1fb6b5757c",
   "metadata": {
    "tags": []
   },
   "outputs": [
    {
     "name": "stdout",
     "output_type": "stream",
     "text": [
      "NAIVE METHOD SCORE:\n",
      "Accuracy: 0.8959057259404744\n",
      "Precision: 0.8448183760683761\n",
      "Recall: 0.7987373737373737\n"
     ]
    }
   ],
   "source": [
    "# Evaluation metrics: https://www.edlitera.com/blog/posts/evaluating-classification-models\n",
    "\n",
    "# 1. Доля правильных предсказаний - Accuracy\n",
    "# Accuracy = (Number of correct predictions) / (Overall number of predictions)\n",
    "\n",
    "# 2. Точность - Precision\n",
    "# Precision = (True Positive) / (True Positive + False Positive)\n",
    "\n",
    "# 3. Полнота - Recall (Sensitivity, True Positive Rate)\n",
    "# The recall is defined as the number of true positives divided by the sum of true positives and false negatives. \n",
    "# It expresses the ability to find all relevant instances in a dataset. \n",
    "# Recall measures how good your model is at correctly predicting positive cases. \n",
    "# It’s the proportion of actual positive cases which were correctly identified. The equation for recall is:\n",
    "# Recall = (True Positive) / (True Positive + False Negative)\n",
    "\n",
    "Accuracy = (total['TP'] + total['TN']) / (total['TP'] + total['TN'] + total['FP'] + total['FN'])\n",
    "Precision = total['TP'] / (total['TP'] + total['FP'])\n",
    "Recall = total['TP'] / (total['TP'] + total['FN'])\n",
    "print('NAIVE METHOD SCORE:')\n",
    "print('Accuracy:', Accuracy)\n",
    "print('Precision:', Precision)\n",
    "print('Recall:', Recall)"
   ]
  },
  {
   "cell_type": "code",
   "execution_count": 15,
   "id": "e4c10563-44c8-4070-b1fa-0e8178533d94",
   "metadata": {},
   "outputs": [],
   "source": [
    "import ray\n",
    "ray.shutdown()"
   ]
  }
 ],
 "metadata": {
  "kernelspec": {
   "display_name": "Python 3 (ipykernel)",
   "language": "python",
   "name": "python3"
  },
  "language_info": {
   "codemirror_mode": {
    "name": "ipython",
    "version": 3
   },
   "file_extension": ".py",
   "mimetype": "text/x-python",
   "name": "python",
   "nbconvert_exporter": "python",
   "pygments_lexer": "ipython3",
   "version": "3.11.5"
  }
 },
 "nbformat": 4,
 "nbformat_minor": 5
}
