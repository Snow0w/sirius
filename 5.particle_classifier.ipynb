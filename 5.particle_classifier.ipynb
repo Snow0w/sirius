{
 "cells": [
  {
   "cell_type": "code",
   "execution_count": 2,
   "id": "9eae841e-ac00-4b1a-9b05-4e667d0640dd",
   "metadata": {},
   "outputs": [],
   "source": [
    "# prerequisites:\n",
    "# pip install -U swifter[groupby]\n",
    "import swifter \n",
    "\n",
    "import pandas as pd\n",
    "import numpy as np\n",
    "import h5py \n",
    "import matplotlib.pyplot as plt\n",
    "from scipy.stats import uniform\n",
    "from sklearn import linear_model"
   ]
  },
  {
   "cell_type": "code",
   "execution_count": 3,
   "id": "075a811b-76f7-4045-b10b-b2f5eb7bd180",
   "metadata": {},
   "outputs": [],
   "source": [
    "# HYPER-PARAMETERS \n",
    "NOISE_FACTOR = 2  # кол-во шумовых фотонов по отношению к правильным\n",
    "MINIMUM_FOTONS_NUMBER = 4  # Не рассматриваем случаи с меньшим чем MINIMUM_FOTONS_NUMBER числом фотонов\n",
    "NUMBER_OF_CASES = 100000 # Кол-во случаев для оценки\n",
    "BAND_WIDTH = 5 # Половина ширины полоски, в которой считаются фотоны\n",
    "BAND_ROTATIONS_NUMBER = 100 # число поворотов для определения оптимального угла. минимальный угол поворота = 360гр/BAND_ROTATIONS_NUMBER "
   ]
  },
  {
   "cell_type": "code",
   "execution_count": 4,
   "id": "41297e4a-7f98-4121-a0c1-bdf2de26dfe2",
   "metadata": {},
   "outputs": [],
   "source": [
    "df = pd.read_hdf(\"./data/Out_fin_pad(200)_x(-1.0,1.0)_E(0.01,10000.0)_eff(0.8)_102.h5\")"
   ]
  },
  {
   "cell_type": "code",
   "execution_count": 5,
   "id": "45dce313-f752-4ce8-a9d3-5b167ca821db",
   "metadata": {
    "tags": []
   },
   "outputs": [
    {
     "data": {
      "text/html": [
       "<div>\n",
       "<style scoped>\n",
       "    .dataframe tbody tr th:only-of-type {\n",
       "        vertical-align: middle;\n",
       "    }\n",
       "\n",
       "    .dataframe tbody tr th {\n",
       "        vertical-align: top;\n",
       "    }\n",
       "\n",
       "    .dataframe thead th {\n",
       "        text-align: right;\n",
       "    }\n",
       "</style>\n",
       "<table border=\"1\" class=\"dataframe\">\n",
       "  <thead>\n",
       "    <tr style=\"text-align: right;\">\n",
       "      <th></th>\n",
       "      <th>a</th>\n",
       "      <th>inc</th>\n",
       "      <th>Z</th>\n",
       "      <th>Num</th>\n",
       "      <th>E0</th>\n",
       "      <th>Eg</th>\n",
       "      <th>Bp</th>\n",
       "      <th>fi_orb</th>\n",
       "      <th>tet_orb</th>\n",
       "      <th>fi</th>\n",
       "      <th>tet</th>\n",
       "      <th>x0</th>\n",
       "      <th>y0</th>\n",
       "      <th>z0</th>\n",
       "      <th>x_det</th>\n",
       "      <th>y_det</th>\n",
       "      <th>x_det_pad</th>\n",
       "      <th>y_det_pad</th>\n",
       "    </tr>\n",
       "  </thead>\n",
       "  <tbody>\n",
       "    <tr>\n",
       "      <th>0</th>\n",
       "      <td>6.0</td>\n",
       "      <td>0.0</td>\n",
       "      <td>1.0</td>\n",
       "      <td>0.0</td>\n",
       "      <td>5.917</td>\n",
       "      <td>0.0000</td>\n",
       "      <td>0.2502</td>\n",
       "      <td>18.0</td>\n",
       "      <td>90.0</td>\n",
       "      <td>287.5397</td>\n",
       "      <td>17.1861</td>\n",
       "      <td>6.4406</td>\n",
       "      <td>2.0924</td>\n",
       "      <td>-0.0001</td>\n",
       "      <td>-0.1167</td>\n",
       "      <td>0.7928</td>\n",
       "      <td>88.0</td>\n",
       "      <td>179.0</td>\n",
       "    </tr>\n",
       "    <tr>\n",
       "      <th>1</th>\n",
       "      <td>6.0</td>\n",
       "      <td>0.0</td>\n",
       "      <td>1.0</td>\n",
       "      <td>0.0</td>\n",
       "      <td>5.917</td>\n",
       "      <td>3366.0648</td>\n",
       "      <td>0.2502</td>\n",
       "      <td>18.0</td>\n",
       "      <td>90.0</td>\n",
       "      <td>287.5397</td>\n",
       "      <td>17.1861</td>\n",
       "      <td>6.4506</td>\n",
       "      <td>2.0926</td>\n",
       "      <td>-0.0010</td>\n",
       "      <td>-0.0009</td>\n",
       "      <td>0.7967</td>\n",
       "      <td>99.0</td>\n",
       "      <td>179.0</td>\n",
       "    </tr>\n",
       "    <tr>\n",
       "      <th>2</th>\n",
       "      <td>6.0</td>\n",
       "      <td>0.0</td>\n",
       "      <td>1.0</td>\n",
       "      <td>0.0</td>\n",
       "      <td>5.917</td>\n",
       "      <td>0.9858</td>\n",
       "      <td>0.2490</td>\n",
       "      <td>18.0</td>\n",
       "      <td>90.0</td>\n",
       "      <td>287.5397</td>\n",
       "      <td>17.1861</td>\n",
       "      <td>6.4585</td>\n",
       "      <td>2.0929</td>\n",
       "      <td>-0.0017</td>\n",
       "      <td>0.1477</td>\n",
       "      <td>0.7424</td>\n",
       "      <td>114.0</td>\n",
       "      <td>174.0</td>\n",
       "    </tr>\n",
       "    <tr>\n",
       "      <th>3</th>\n",
       "      <td>6.0</td>\n",
       "      <td>0.0</td>\n",
       "      <td>1.0</td>\n",
       "      <td>0.0</td>\n",
       "      <td>5.917</td>\n",
       "      <td>6.0639</td>\n",
       "      <td>0.2480</td>\n",
       "      <td>18.0</td>\n",
       "      <td>90.0</td>\n",
       "      <td>287.5397</td>\n",
       "      <td>17.1861</td>\n",
       "      <td>6.4635</td>\n",
       "      <td>2.0930</td>\n",
       "      <td>-0.0021</td>\n",
       "      <td>0.2700</td>\n",
       "      <td>0.7550</td>\n",
       "      <td>127.0</td>\n",
       "      <td>175.0</td>\n",
       "    </tr>\n",
       "    <tr>\n",
       "      <th>4</th>\n",
       "      <td>6.0</td>\n",
       "      <td>0.0</td>\n",
       "      <td>1.0</td>\n",
       "      <td>0.0</td>\n",
       "      <td>5.917</td>\n",
       "      <td>3.1189</td>\n",
       "      <td>0.2467</td>\n",
       "      <td>18.0</td>\n",
       "      <td>90.0</td>\n",
       "      <td>287.5397</td>\n",
       "      <td>17.1861</td>\n",
       "      <td>6.4735</td>\n",
       "      <td>2.0933</td>\n",
       "      <td>-0.0030</td>\n",
       "      <td>0.6106</td>\n",
       "      <td>0.7557</td>\n",
       "      <td>161.0</td>\n",
       "      <td>175.0</td>\n",
       "    </tr>\n",
       "    <tr>\n",
       "      <th>...</th>\n",
       "      <td>...</td>\n",
       "      <td>...</td>\n",
       "      <td>...</td>\n",
       "      <td>...</td>\n",
       "      <td>...</td>\n",
       "      <td>...</td>\n",
       "      <td>...</td>\n",
       "      <td>...</td>\n",
       "      <td>...</td>\n",
       "      <td>...</td>\n",
       "      <td>...</td>\n",
       "      <td>...</td>\n",
       "      <td>...</td>\n",
       "      <td>...</td>\n",
       "      <td>...</td>\n",
       "      <td>...</td>\n",
       "      <td>...</td>\n",
       "      <td>...</td>\n",
       "    </tr>\n",
       "    <tr>\n",
       "      <th>1611082</th>\n",
       "      <td>4.0</td>\n",
       "      <td>0.0</td>\n",
       "      <td>-1.0</td>\n",
       "      <td>299996.0</td>\n",
       "      <td>14.658</td>\n",
       "      <td>5149.9423</td>\n",
       "      <td>0.1730</td>\n",
       "      <td>18.0</td>\n",
       "      <td>90.0</td>\n",
       "      <td>228.4404</td>\n",
       "      <td>53.9840</td>\n",
       "      <td>6.4732</td>\n",
       "      <td>2.0746</td>\n",
       "      <td>0.0242</td>\n",
       "      <td>0.1274</td>\n",
       "      <td>0.9839</td>\n",
       "      <td>112.0</td>\n",
       "      <td>198.0</td>\n",
       "    </tr>\n",
       "    <tr>\n",
       "      <th>1611083</th>\n",
       "      <td>1.0</td>\n",
       "      <td>0.0</td>\n",
       "      <td>1.0</td>\n",
       "      <td>299997.0</td>\n",
       "      <td>4.028</td>\n",
       "      <td>0.0000</td>\n",
       "      <td>0.2290</td>\n",
       "      <td>18.0</td>\n",
       "      <td>90.0</td>\n",
       "      <td>50.0309</td>\n",
       "      <td>78.0661</td>\n",
       "      <td>6.4396</td>\n",
       "      <td>2.0931</td>\n",
       "      <td>-0.0006</td>\n",
       "      <td>-0.2695</td>\n",
       "      <td>-0.0098</td>\n",
       "      <td>73.0</td>\n",
       "      <td>99.0</td>\n",
       "    </tr>\n",
       "    <tr>\n",
       "      <th>1611084</th>\n",
       "      <td>3.0</td>\n",
       "      <td>0.0</td>\n",
       "      <td>1.0</td>\n",
       "      <td>299998.0</td>\n",
       "      <td>23.657</td>\n",
       "      <td>0.0000</td>\n",
       "      <td>0.2620</td>\n",
       "      <td>18.0</td>\n",
       "      <td>90.0</td>\n",
       "      <td>56.6673</td>\n",
       "      <td>52.4806</td>\n",
       "      <td>6.4400</td>\n",
       "      <td>2.0932</td>\n",
       "      <td>-0.0004</td>\n",
       "      <td>0.8679</td>\n",
       "      <td>0.0061</td>\n",
       "      <td>186.0</td>\n",
       "      <td>100.0</td>\n",
       "    </tr>\n",
       "    <tr>\n",
       "      <th>1611085</th>\n",
       "      <td>3.0</td>\n",
       "      <td>0.0</td>\n",
       "      <td>1.0</td>\n",
       "      <td>299998.0</td>\n",
       "      <td>23.657</td>\n",
       "      <td>1967.6465</td>\n",
       "      <td>0.2620</td>\n",
       "      <td>18.0</td>\n",
       "      <td>90.0</td>\n",
       "      <td>56.6673</td>\n",
       "      <td>52.4806</td>\n",
       "      <td>6.4430</td>\n",
       "      <td>2.0997</td>\n",
       "      <td>-0.0039</td>\n",
       "      <td>0.8800</td>\n",
       "      <td>0.0248</td>\n",
       "      <td>187.0</td>\n",
       "      <td>102.0</td>\n",
       "    </tr>\n",
       "    <tr>\n",
       "      <th>1611086</th>\n",
       "      <td>3.0</td>\n",
       "      <td>0.0</td>\n",
       "      <td>1.0</td>\n",
       "      <td>299998.0</td>\n",
       "      <td>23.657</td>\n",
       "      <td>2205.5910</td>\n",
       "      <td>0.2614</td>\n",
       "      <td>18.0</td>\n",
       "      <td>90.0</td>\n",
       "      <td>56.6673</td>\n",
       "      <td>52.4806</td>\n",
       "      <td>6.4460</td>\n",
       "      <td>2.1063</td>\n",
       "      <td>-0.0074</td>\n",
       "      <td>0.9307</td>\n",
       "      <td>0.0169</td>\n",
       "      <td>193.0</td>\n",
       "      <td>101.0</td>\n",
       "    </tr>\n",
       "  </tbody>\n",
       "</table>\n",
       "<p>1611087 rows × 18 columns</p>\n",
       "</div>"
      ],
      "text/plain": [
       "           a  inc    Z       Num      E0         Eg      Bp  fi_orb  tet_orb  \\\n",
       "0        6.0  0.0  1.0       0.0   5.917     0.0000  0.2502    18.0     90.0   \n",
       "1        6.0  0.0  1.0       0.0   5.917  3366.0648  0.2502    18.0     90.0   \n",
       "2        6.0  0.0  1.0       0.0   5.917     0.9858  0.2490    18.0     90.0   \n",
       "3        6.0  0.0  1.0       0.0   5.917     6.0639  0.2480    18.0     90.0   \n",
       "4        6.0  0.0  1.0       0.0   5.917     3.1189  0.2467    18.0     90.0   \n",
       "...      ...  ...  ...       ...     ...        ...     ...     ...      ...   \n",
       "1611082  4.0  0.0 -1.0  299996.0  14.658  5149.9423  0.1730    18.0     90.0   \n",
       "1611083  1.0  0.0  1.0  299997.0   4.028     0.0000  0.2290    18.0     90.0   \n",
       "1611084  3.0  0.0  1.0  299998.0  23.657     0.0000  0.2620    18.0     90.0   \n",
       "1611085  3.0  0.0  1.0  299998.0  23.657  1967.6465  0.2620    18.0     90.0   \n",
       "1611086  3.0  0.0  1.0  299998.0  23.657  2205.5910  0.2614    18.0     90.0   \n",
       "\n",
       "               fi      tet      x0      y0      z0   x_det   y_det  x_det_pad  \\\n",
       "0        287.5397  17.1861  6.4406  2.0924 -0.0001 -0.1167  0.7928       88.0   \n",
       "1        287.5397  17.1861  6.4506  2.0926 -0.0010 -0.0009  0.7967       99.0   \n",
       "2        287.5397  17.1861  6.4585  2.0929 -0.0017  0.1477  0.7424      114.0   \n",
       "3        287.5397  17.1861  6.4635  2.0930 -0.0021  0.2700  0.7550      127.0   \n",
       "4        287.5397  17.1861  6.4735  2.0933 -0.0030  0.6106  0.7557      161.0   \n",
       "...           ...      ...     ...     ...     ...     ...     ...        ...   \n",
       "1611082  228.4404  53.9840  6.4732  2.0746  0.0242  0.1274  0.9839      112.0   \n",
       "1611083   50.0309  78.0661  6.4396  2.0931 -0.0006 -0.2695 -0.0098       73.0   \n",
       "1611084   56.6673  52.4806  6.4400  2.0932 -0.0004  0.8679  0.0061      186.0   \n",
       "1611085   56.6673  52.4806  6.4430  2.0997 -0.0039  0.8800  0.0248      187.0   \n",
       "1611086   56.6673  52.4806  6.4460  2.1063 -0.0074  0.9307  0.0169      193.0   \n",
       "\n",
       "         y_det_pad  \n",
       "0            179.0  \n",
       "1            179.0  \n",
       "2            174.0  \n",
       "3            175.0  \n",
       "4            175.0  \n",
       "...            ...  \n",
       "1611082      198.0  \n",
       "1611083       99.0  \n",
       "1611084      100.0  \n",
       "1611085      102.0  \n",
       "1611086      101.0  \n",
       "\n",
       "[1611087 rows x 18 columns]"
      ]
     },
     "execution_count": 5,
     "metadata": {},
     "output_type": "execute_result"
    }
   ],
   "source": [
    "df"
   ]
  },
  {
   "cell_type": "code",
   "execution_count": 6,
   "id": "44b82d41-a515-4395-aa2a-737920acad74",
   "metadata": {
    "tags": []
   },
   "outputs": [],
   "source": [
    "# генерирует шум\n",
    "def generate_uniform(df, size):\n",
    "    size_df = len(df)\n",
    "    xarr = uniform.rvs(scale = 199, size = size * size_df)\n",
    "    yarr = uniform.rvs(scale = 199, size = size * size_df)\n",
    "    return pd.DataFrame({'x_det_pad': xarr.astype(int), 'y_det_pad': yarr.astype(int)})"
   ]
  },
  {
   "cell_type": "code",
   "execution_count": 7,
   "id": "b1f4da51-1ea5-42c1-a360-53ffd5921b5c",
   "metadata": {
    "tags": []
   },
   "outputs": [],
   "source": [
    "# определяет, лежит ли точка (px,py) в (верхней) полуплоскости, образуемой прямой, проходящей через (x0,y0), (x1,y1)\n",
    "def point_belongs_to_semiplane(x0,y0,x1,y1,px,py):\n",
    "    return np.cross([x1-x0, y1-y0], [px-x0,py-y0]) >= 0"
   ]
  },
  {
   "cell_type": "code",
   "execution_count": 8,
   "id": "dab149d4-6000-4028-a7d0-5fc296ef09e4",
   "metadata": {},
   "outputs": [],
   "source": [
    "# определяет, лежит ли точка в полосе шириной +-width, проходящую через точку (x0,y0) под углом alpha\n",
    "def point_belongs_to_band(px,py, x0,y0, alpha, width):\n",
    "    x1 = x0 + np.cos(alpha)\n",
    "    y1 = y0 + np.sin(alpha)\n",
    "    \n",
    "    width_x = - width * np.sin(alpha)\n",
    "    width_y = width * np.cos(alpha)\n",
    "    return (not point_belongs_to_semiplane(x0 + width_x, y0 + width_y,x1 + width_x, y1 + width_y, px, py) and\n",
    "        point_belongs_to_semiplane(x0 - width_x, y0 - width_y,x1 - width_x, y1 - width_y, px, py) and\n",
    "        not point_belongs_to_semiplane(x0 - width_x, y0 - width_y, x0 + width_x, y0 + width_y, px, py))"
   ]
  },
  {
   "cell_type": "code",
   "execution_count": 9,
   "id": "504527f9-4aab-46e1-9224-33da614f2fab",
   "metadata": {
    "tags": []
   },
   "outputs": [],
   "source": [
    "# считает кол-во фотонов, попадающих в полосу шириной +-width, проходящую через точку (x0,y0) под углом alpha\n",
    "def count_points_in_band(df, x0, y0, alpha, width):         \n",
    "    x1 = x0 + np.cos(alpha)\n",
    "    y1 = y0 + np.sin(alpha)\n",
    "    \n",
    "    width_x = - width * np.sin(alpha)\n",
    "    width_y = width * np.cos(alpha)\n",
    "   \n",
    "    count = 0   \n",
    "    for index, row in df.iterrows():\n",
    "        x = row['x_det_pad']\n",
    "        y = row['y_det_pad']\n",
    "        if (not point_belongs_to_semiplane(x0 + width_x, y0 + width_y,x1 + width_x, y1 + width_y, x, y) and\n",
    "            point_belongs_to_semiplane(x0 - width_x, y0 - width_y,x1 - width_x, y1 - width_y, x, y) and\n",
    "            not point_belongs_to_semiplane(x0 - width_x, y0 - width_y, x0 + width_x, y0 + width_y, x, y)\n",
    "           ):\n",
    "            count += 1\n",
    "    \n",
    "    return count"
   ]
  },
  {
   "cell_type": "code",
   "execution_count": 10,
   "id": "88f83f64-8a93-431f-8865-cfa724283e08",
   "metadata": {
    "tags": []
   },
   "outputs": [],
   "source": [
    "# находит оптимальный угол поворота для отдельного эксперимента путем полного перебора\n",
    "def find_max_alfa(df, x0, y0, width):\n",
    "    alpha_max = 0\n",
    "    cmax = 0\n",
    "    for alpha in np.arange(-np.pi, np.pi, 2*np.pi/BAND_ROTATIONS_NUMBER):\n",
    "        c = count_points_in_band(df, x0, y0, alpha, width)\n",
    "        if c > cmax:\n",
    "            cmax = c\n",
    "            alpha_max = alpha\n",
    "            \n",
    "    return alpha_max"
   ]
  },
  {
   "cell_type": "code",
   "execution_count": 11,
   "id": "de5ce5b9-e7d7-4591-b9e2-5796cb2a2ca1",
   "metadata": {
    "tags": []
   },
   "outputs": [],
   "source": [
    "# оцениваем точность наивного метода для конкретного эксперимента\n",
    "def prepare_data(df, width):   \n",
    "    # не рассматриваем случаи с малым числом фотонов\n",
    "    if len(df) < MINIMUM_FOTONS_NUMBER:\n",
    "        return\n",
    "    \n",
    "    # находим порождающую частицу\n",
    "    particle = df.query('Eg == 0')\n",
    "    # не рассматриваем случаи с двумя и более частицами\n",
    "    if len(particle) > 1:\n",
    "        return\n",
    "    \n",
    "    # находим координаты этой частицы\n",
    "    x0 = float(particle.iloc[0]['x_det_pad'])\n",
    "    y0 = float(particle.iloc[0]['y_det_pad'])\n",
    "       \n",
    "    # для оценки точности модели шум добавляем до определения угла поворота\n",
    "    # noise = generate_uniform(df, NOISE_FACTOR)\n",
    "    # df_and_noise = pd.concat([df, noise])\n",
    "    \n",
    "    # определяем нужный угол поворота\n",
    "    # alpha_max = find_max_alfa(df_and_noise, x0, y0, width)\n",
    "    alpha_max = find_max_alfa(df, x0, y0, width)\n",
    "    \n",
    "    return pd.DataFrame({'x': [x0], 'y': [y0], 'alpha': [alpha_max], 'Zclass':[particle.iloc[0]['Z']>0]})"
   ]
  },
  {
   "cell_type": "code",
   "execution_count": 12,
   "id": "436ee481-4ae1-4d55-9f12-25e493e2103c",
   "metadata": {
    "tags": []
   },
   "outputs": [],
   "source": [
    "def plot_elements(df, low=0, up=200):\n",
    "    fig, ax = plt.subplots(figsize=(5,5))\n",
    "  \n",
    "    plt.xlim(low,up)\n",
    "    plt.ylim(low,up)\n",
    "    particle = df.query('Eg == 0')\n",
    "    df = df.drop(df[df.Eg == 0].index)\n",
    "    \n",
    "    data = df[df.Num.notnull()]\n",
    "    noise = df[df.Num.isna()]\n",
    "    \n",
    "    ax.scatter(data[['x_det_pad']], data[['y_det_pad']], s=2)\n",
    "    ax.scatter(noise[['x_det_pad']], noise[['y_det_pad']], s=1, facecolor='green')\n",
    "    ax.scatter(particle[['x_det_pad']], particle[['y_det_pad']], facecolor='red', s=2)\n",
    "    return fig, ax"
   ]
  },
  {
   "cell_type": "code",
   "execution_count": 13,
   "id": "fce56020-f2f5-4e23-9c48-e08ec07b8ba9",
   "metadata": {
    "tags": []
   },
   "outputs": [
    {
     "data": {
      "application/vnd.jupyter.widget-view+json": {
       "model_id": "7579d4655989408d879e057697caa5e2",
       "version_major": 2,
       "version_minor": 0
      },
      "text/plain": [
       "  0%|          | 0/64 [00:00<?, ?it/s]"
      ]
     },
     "metadata": {},
     "output_type": "display_data"
    },
    {
     "name": "stderr",
     "output_type": "stream",
     "text": [
      "2024-03-10 12:44:11,103\tINFO worker.py:1673 -- Started a local Ray instance.\n"
     ]
    }
   ],
   "source": [
    "# группируем данные по номеру эксперимента, для каждой группы запускаем оценку\n",
    "trainData = df.query('Num < @NUMBER_OF_CASES').swifter.groupby(\"Num\").apply(lambda x: prepare_data(x, BAND_WIDTH))"
   ]
  },
  {
   "cell_type": "code",
   "execution_count": 14,
   "id": "b6003040-3305-4fbb-9dfe-86710b4de86e",
   "metadata": {},
   "outputs": [
    {
     "data": {
      "text/html": [
       "<div>\n",
       "<style scoped>\n",
       "    .dataframe tbody tr th:only-of-type {\n",
       "        vertical-align: middle;\n",
       "    }\n",
       "\n",
       "    .dataframe tbody tr th {\n",
       "        vertical-align: top;\n",
       "    }\n",
       "\n",
       "    .dataframe thead th {\n",
       "        text-align: right;\n",
       "    }\n",
       "</style>\n",
       "<table border=\"1\" class=\"dataframe\">\n",
       "  <thead>\n",
       "    <tr style=\"text-align: right;\">\n",
       "      <th></th>\n",
       "      <th></th>\n",
       "      <th>x</th>\n",
       "      <th>y</th>\n",
       "      <th>alpha</th>\n",
       "      <th>Zclass</th>\n",
       "    </tr>\n",
       "    <tr>\n",
       "      <th>Num</th>\n",
       "      <th></th>\n",
       "      <th></th>\n",
       "      <th></th>\n",
       "      <th></th>\n",
       "      <th></th>\n",
       "    </tr>\n",
       "  </thead>\n",
       "  <tbody>\n",
       "    <tr>\n",
       "      <th>0.0</th>\n",
       "      <th>0</th>\n",
       "      <td>88.0</td>\n",
       "      <td>179.0</td>\n",
       "      <td>-0.062832</td>\n",
       "      <td>True</td>\n",
       "    </tr>\n",
       "    <tr>\n",
       "      <th>1.0</th>\n",
       "      <th>0</th>\n",
       "      <td>120.0</td>\n",
       "      <td>54.0</td>\n",
       "      <td>2.387610</td>\n",
       "      <td>False</td>\n",
       "    </tr>\n",
       "    <tr>\n",
       "      <th>2.0</th>\n",
       "      <th>0</th>\n",
       "      <td>82.0</td>\n",
       "      <td>89.0</td>\n",
       "      <td>-0.251327</td>\n",
       "      <td>True</td>\n",
       "    </tr>\n",
       "    <tr>\n",
       "      <th>3.0</th>\n",
       "      <th>0</th>\n",
       "      <td>61.0</td>\n",
       "      <td>124.0</td>\n",
       "      <td>0.062832</td>\n",
       "      <td>True</td>\n",
       "    </tr>\n",
       "    <tr>\n",
       "      <th>4.0</th>\n",
       "      <th>0</th>\n",
       "      <td>173.0</td>\n",
       "      <td>46.0</td>\n",
       "      <td>-0.125664</td>\n",
       "      <td>True</td>\n",
       "    </tr>\n",
       "    <tr>\n",
       "      <th>...</th>\n",
       "      <th>...</th>\n",
       "      <td>...</td>\n",
       "      <td>...</td>\n",
       "      <td>...</td>\n",
       "      <td>...</td>\n",
       "    </tr>\n",
       "    <tr>\n",
       "      <th>99991.0</th>\n",
       "      <th>0</th>\n",
       "      <td>152.0</td>\n",
       "      <td>7.0</td>\n",
       "      <td>2.953097</td>\n",
       "      <td>False</td>\n",
       "    </tr>\n",
       "    <tr>\n",
       "      <th>99992.0</th>\n",
       "      <th>0</th>\n",
       "      <td>5.0</td>\n",
       "      <td>68.0</td>\n",
       "      <td>-0.376991</td>\n",
       "      <td>True</td>\n",
       "    </tr>\n",
       "    <tr>\n",
       "      <th>99993.0</th>\n",
       "      <th>0</th>\n",
       "      <td>78.0</td>\n",
       "      <td>36.0</td>\n",
       "      <td>-0.628319</td>\n",
       "      <td>False</td>\n",
       "    </tr>\n",
       "    <tr>\n",
       "      <th>99994.0</th>\n",
       "      <th>0</th>\n",
       "      <td>94.0</td>\n",
       "      <td>9.0</td>\n",
       "      <td>-3.078761</td>\n",
       "      <td>False</td>\n",
       "    </tr>\n",
       "    <tr>\n",
       "      <th>99997.0</th>\n",
       "      <th>0</th>\n",
       "      <td>146.0</td>\n",
       "      <td>120.0</td>\n",
       "      <td>-1.068142</td>\n",
       "      <td>True</td>\n",
       "    </tr>\n",
       "  </tbody>\n",
       "</table>\n",
       "<p>66911 rows × 4 columns</p>\n",
       "</div>"
      ],
      "text/plain": [
       "               x      y     alpha  Zclass\n",
       "Num                                      \n",
       "0.0     0   88.0  179.0 -0.062832    True\n",
       "1.0     0  120.0   54.0  2.387610   False\n",
       "2.0     0   82.0   89.0 -0.251327    True\n",
       "3.0     0   61.0  124.0  0.062832    True\n",
       "4.0     0  173.0   46.0 -0.125664    True\n",
       "...          ...    ...       ...     ...\n",
       "99991.0 0  152.0    7.0  2.953097   False\n",
       "99992.0 0    5.0   68.0 -0.376991    True\n",
       "99993.0 0   78.0   36.0 -0.628319   False\n",
       "99994.0 0   94.0    9.0 -3.078761   False\n",
       "99997.0 0  146.0  120.0 -1.068142    True\n",
       "\n",
       "[66911 rows x 4 columns]"
      ]
     },
     "execution_count": 14,
     "metadata": {},
     "output_type": "execute_result"
    }
   ],
   "source": [
    "trainData"
   ]
  },
  {
   "cell_type": "code",
   "execution_count": 15,
   "id": "f68ae493-91d6-4244-ac5c-5873515a6f4d",
   "metadata": {
    "tags": []
   },
   "outputs": [],
   "source": [
    "xP = trainData.query('Zclass')['alpha'].to_numpy()\n",
    "xN = trainData.query('not Zclass')['alpha'].to_numpy()\n",
    "xP1 = trainData.query('Zclass')['x'].to_numpy()\n",
    "xN1 = trainData.query('not Zclass')['x'].to_numpy()\n",
    "xP2 = trainData.query('Zclass')['y'].to_numpy()\n",
    "xN2 = trainData.query('not Zclass')['y'].to_numpy()"
   ]
  },
  {
   "cell_type": "code",
   "execution_count": 16,
   "id": "9888531d-7b2c-4eeb-bf0b-824365bd58f1",
   "metadata": {
    "tags": []
   },
   "outputs": [
    {
     "data": {
      "text/plain": [
       "<matplotlib.legend.Legend at 0x1a4e4bcdb90>"
      ]
     },
     "execution_count": 16,
     "metadata": {},
     "output_type": "execute_result"
    },
    {
     "data": {
      "image/png": "[encoded data removed]",
      "text/plain": [
       "<Figure size 2400x800 with 3 Axes>"
      ]
     },
     "metadata": {},
     "output_type": "display_data"
    }
   ],
   "source": [
    "fig, (ax, ax1, ax2) = plt.subplots(figsize=(24,8),nrows=1, ncols=3)\n",
    "ax.hist(xP, bins= 30, histtype='bar', rwidth=0.8, label='Positrons')\n",
    "ax.hist(xN, bins= 30, histtype='bar', rwidth=0.8, label='Electrons')\n",
    "ax.set_title('Гистограмма распределения частиц по углу следа α')\n",
    "ax.legend(prop={'size': 10})\n",
    "\n",
    "ax1.hist([xP1, xN1], bins= 30, histtype='bar', rwidth=0.8, label=['Positrons','Electrons'])\n",
    "#ax1.hist(xP1, bins= 30, histtype='bar', rwidth=0.8, label='Electrons')\n",
    "ax1.set_title('Гистограмма распределения частиц по x0')\n",
    "ax1.legend(prop={'size': 10})\n",
    "\n",
    "ax2.hist([xP2,xN2], bins= 30, histtype='bar', rwidth=0.8, label=['Positrons','Electrons'])\n",
    "ax2.set_title('Гистограмма распределения частиц по y0')\n",
    "ax2.legend(prop={'size': 10})\n",
    "\n"
   ]
  },
  {
   "cell_type": "code",
   "execution_count": 17,
   "id": "e55036e8-5028-4a58-b809-fdf2e075566c",
   "metadata": {
    "tags": []
   },
   "outputs": [],
   "source": [
    "X = trainData[['alpha']].to_numpy()\n",
    "y = trainData['Zclass'].transpose().to_numpy()"
   ]
  },
  {
   "cell_type": "code",
   "execution_count": 18,
   "id": "f189462c-a699-4edd-9dcb-cdc80ccb26e4",
   "metadata": {
    "tags": []
   },
   "outputs": [],
   "source": [
    "#========================================================================================\n",
    "# CLASSIFIER TRAINING\n",
    "#========================================================================================\n",
    "from matplotlib.colors import ListedColormap\n",
    "from sklearn.datasets import make_circles, make_classification, make_moons\n",
    "from sklearn.discriminant_analysis import QuadraticDiscriminantAnalysis\n",
    "from sklearn.ensemble import AdaBoostClassifier, RandomForestClassifier\n",
    "from sklearn.gaussian_process import GaussianProcessClassifier\n",
    "from sklearn.gaussian_process.kernels import RBF\n",
    "from sklearn.inspection import DecisionBoundaryDisplay\n",
    "from sklearn.model_selection import train_test_split\n",
    "from sklearn.naive_bayes import GaussianNB\n",
    "from sklearn.neighbors import KNeighborsClassifier\n",
    "from sklearn.neural_network import MLPClassifier\n",
    "from sklearn.pipeline import make_pipeline\n",
    "from sklearn.preprocessing import StandardScaler\n",
    "from sklearn.svm import SVC\n",
    "from sklearn.tree import DecisionTreeClassifier\n",
    "from sklearn import tree\n",
    "\n",
    "import pickle"
   ]
  },
  {
   "cell_type": "code",
   "execution_count": 19,
   "id": "e632d0b2-3087-4222-808b-669cfcd5e2df",
   "metadata": {
    "tags": []
   },
   "outputs": [],
   "source": [
    "ds = (X, y)\n",
    "names = [\n",
    "    #\"Nearest Neighbors\",\n",
    "    #\"RBF SVM\",\n",
    "    \"Poly SVM\",\n",
    "    #\"Gaussian Process\",\n",
    "    \"Decision Tree\",\n",
    "    \"Random Forest\",\n",
    "    #\"Neural Net\",\n",
    "    #\"AdaBoost\",\n",
    "    #\"QDA\",\n",
    "]\n",
    "\n",
    "# https://scikit-learn.org/stable/auto_examples/svm/plot_svm_kernels.html#sphx-glr-auto-examples-svm-plot-svm-kernels-py\n",
    "classifiers = [\n",
    "    #KNeighborsClassifier(3),\n",
    "    #SVC(gamma=2, C=1, random_state=42),\n",
    "    SVC(kernel=\"poly\", C=1, degree=2, random_state=42),   \n",
    "    #GaussianProcessClassifier(1.0 * RBF(1.0), random_state=42),\n",
    "    DecisionTreeClassifier(max_depth=2, random_state=42),\n",
    "    RandomForestClassifier(\n",
    "        max_depth=5, n_estimators=10, max_features=1, random_state=42\n",
    "    ),\n",
    "    #MLPClassifier(alpha=1, max_iter=1000, random_state=42),\n",
    "    #AdaBoostClassifier(random_state=42),\n",
    "    #QuadraticDiscriminantAnalysis(),\n",
    "]"
   ]
  },
  {
   "cell_type": "code",
   "execution_count": 20,
   "id": "f7400897-5863-431d-b5a8-50b08583b12f",
   "metadata": {
    "tags": []
   },
   "outputs": [
    {
     "name": "stdout",
     "output_type": "stream",
     "text": [
      "Poly SVM 0.9868484961703717\n",
      "Decision Tree 0.9870353073043153\n",
      "Random Forest 0.9870353073043153\n"
     ]
    }
   ],
   "source": [
    "# preprocess dataset, split into training and test part\n",
    "X, y = ds\n",
    "X_train, X_test, y_train, y_test = train_test_split(\n",
    "    X, y, test_size=0.4, random_state=42\n",
    ")\n",
    "\n",
    "# iterate over classifiers\n",
    "for name, clf in zip(names, classifiers):\n",
    "    clf.fit(X_train, y_train)\n",
    "       \n",
    "    # save model\n",
    "    pickle.dump(clf, open(name + \".model\", \"wb\"))\n",
    "    # load model\n",
    "    #loaded_model = pickle.load(open(filename, \"rb\"))\n",
    "\n",
    "    score = clf.score(X_test, y_test)\n",
    "    print(name, score)\n"
   ]
  },
  {
   "cell_type": "code",
   "execution_count": 21,
   "id": "058fbafb-46dc-452e-94a9-361fa2adb8e2",
   "metadata": {
    "tags": []
   },
   "outputs": [],
   "source": [
    "clf = pickle.load(open(\"Decision Tree.model\", \"rb\"))\n"
   ]
  },
  {
   "cell_type": "code",
   "execution_count": 22,
   "id": "44384b86-d998-4710-bc96-ddec48f8c12b",
   "metadata": {
    "tags": []
   },
   "outputs": [
    {
     "data": {
      "text/plain": [
       "[Text(0.5, 0.8333333333333334, 'x[0] <= -1.665\\ngini = 0.5\\nsamples = 40146\\nvalue = [20008, 20138]'),\n",
       " Text(0.25, 0.5, 'x[0] <= -1.979\\ngini = 0.042\\nsamples = 13746\\nvalue = [13454, 292]'),\n",
       " Text(0.125, 0.16666666666666666, 'gini = 0.036\\nsamples = 13608\\nvalue = [13360, 248]'),\n",
       " Text(0.375, 0.16666666666666666, 'gini = 0.434\\nsamples = 138\\nvalue = [94, 44]'),\n",
       " Text(0.75, 0.5, 'x[0] <= 1.665\\ngini = 0.373\\nsamples = 26400\\nvalue = [6554, 19846]'),\n",
       " Text(0.625, 0.16666666666666666, 'gini = 0.019\\nsamples = 20006\\nvalue = [193, 19813]'),\n",
       " Text(0.875, 0.16666666666666666, 'gini = 0.01\\nsamples = 6394\\nvalue = [6361, 33]')]"
      ]
     },
     "execution_count": 22,
     "metadata": {},
     "output_type": "execute_result"
    },
    {
     "data": {
      "image/png": "[encoded data removed]",
      "text/plain": [
       "<Figure size 640x480 with 1 Axes>"
      ]
     },
     "metadata": {},
     "output_type": "display_data"
    }
   ],
   "source": [
    "tree.plot_tree(clf)"
   ]
  },
  {
   "cell_type": "code",
   "execution_count": 25,
   "id": "96f926ef-0f11-4ef1-8c58-344d9ebc8e4b",
   "metadata": {
    "tags": []
   },
   "outputs": [
    {
     "data": {
      "application/vnd.jupyter.widget-view+json": {
       "model_id": "dbaad9085cf743939861dbc57a9216ea",
       "version_major": 2,
       "version_minor": 0
      },
      "text/plain": [
       "  0%|          | 0/64 [00:00<?, ?it/s]"
      ]
     },
     "metadata": {},
     "output_type": "display_data"
    }
   ],
   "source": [
    "testData = df.query('(Num > @NUMBER_OF_CASES) and (Num < 2 * @NUMBER_OF_CASES)').swifter.groupby(\"Num\").apply(lambda x: prepare_data(x, BAND_WIDTH))"
   ]
  },
  {
   "cell_type": "code",
   "execution_count": 28,
   "id": "d03a1d1c-3871-4be9-9e27-86d7544f9a66",
   "metadata": {
    "tags": []
   },
   "outputs": [],
   "source": [
    "X = testData[['alpha']].to_numpy()\n",
    "y_true = testData['Zclass'].transpose().to_numpy()"
   ]
  },
  {
   "cell_type": "code",
   "execution_count": 29,
   "id": "cb4705b8-c947-45e3-a41f-e75ab0ccb745",
   "metadata": {
    "tags": []
   },
   "outputs": [],
   "source": [
    "y_pred = clf.predict(X)"
   ]
  },
  {
   "cell_type": "code",
   "execution_count": 34,
   "id": "c8989dba-a8af-470c-83e1-91c437da4279",
   "metadata": {
    "tags": []
   },
   "outputs": [],
   "source": [
    "from sklearn.metrics import accuracy_score\n",
    "from sklearn.metrics import classification_report"
   ]
  },
  {
   "cell_type": "code",
   "execution_count": 35,
   "id": "7bfc1b4b-0b7d-4cc6-b4a2-32a17249e8e7",
   "metadata": {
    "tags": []
   },
   "outputs": [
    {
     "data": {
      "text/plain": [
       "0.9873397031071222"
      ]
     },
     "execution_count": 35,
     "metadata": {},
     "output_type": "execute_result"
    }
   ],
   "source": [
    "accuracy_score(y_true, y_pred)"
   ]
  },
  {
   "cell_type": "code",
   "execution_count": 37,
   "id": "4f67d8ef-0ecc-4666-97e5-515e31eca8a3",
   "metadata": {
    "tags": []
   },
   "outputs": [
    {
     "name": "stdout",
     "output_type": "stream",
     "text": [
      "              precision    recall  f1-score   support\n",
      "\n",
      "       False       0.98      0.99      0.99     33676\n",
      "        True       0.99      0.98      0.99     33621\n",
      "\n",
      "    accuracy                           0.99     67297\n",
      "   macro avg       0.99      0.99      0.99     67297\n",
      "weighted avg       0.99      0.99      0.99     67297\n",
      "\n"
     ]
    }
   ],
   "source": [
    "print(classification_report(y_true, y_pred))"
   ]
  },
  {
   "cell_type": "code",
   "execution_count": 38,
   "id": "e4c10563-44c8-4070-b1fa-0e8178533d94",
   "metadata": {},
   "outputs": [],
   "source": [
    "import ray\n",
    "ray.shutdown()"
   ]
  },
  {
   "cell_type": "code",
   "execution_count": null,
   "id": "20cc3f03-2e76-4a5d-900a-c2c6a075b173",
   "metadata": {},
   "outputs": [],
   "source": []
  }
 ],
 "metadata": {
  "kernelspec": {
   "display_name": "Python 3 (ipykernel)",
   "language": "python",
   "name": "python3"
  },
  "language_info": {
   "codemirror_mode": {
    "name": "ipython",
    "version": 3
   },
   "file_extension": ".py",
   "mimetype": "text/x-python",
   "name": "python",
   "nbconvert_exporter": "python",
   "pygments_lexer": "ipython3",
   "version": "3.11.5"
  }
 },
 "nbformat": 4,
 "nbformat_minor": 5
}
