{
 "cells": [
  {
   "cell_type": "code",
   "execution_count": 3,
   "metadata": {
    "tags": []
   },
   "outputs": [],
   "source": [
    "import pandas as pd\n",
    "import numpy as np\n",
    "import h5py \n",
    "import matplotlib.pyplot as plt\n",
    "from scipy.stats import uniform\n",
    "from sklearn import linear_model"
   ]
  },
  {
   "cell_type": "code",
   "execution_count": 4,
   "metadata": {
    "tags": []
   },
   "outputs": [],
   "source": [
    "df = pd.read_hdf(\"./data/Out_fin_pad(200)_x(-1.0,1.0)_E(0.01,10000.0)_eff(0.8)_100.h5\")"
   ]
  },
  {
   "cell_type": "code",
   "execution_count": 5,
   "metadata": {
    "tags": []
   },
   "outputs": [
    {
     "data": {
      "text/plain": [
       "1582229"
      ]
     },
     "execution_count": 5,
     "metadata": {},
     "output_type": "execute_result"
    }
   ],
   "source": [
    "df[[\"a\"]].size"
   ]
  },
  {
   "cell_type": "code",
   "execution_count": 6,
   "metadata": {
    "tags": []
   },
   "outputs": [
    {
     "data": {
      "text/plain": [
       "299992"
      ]
     },
     "execution_count": 6,
     "metadata": {},
     "output_type": "execute_result"
    }
   ],
   "source": [
    "num_event = np.unique(df['Num']).size\n",
    "num_event"
   ]
  },
  {
   "cell_type": "code",
   "execution_count": 7,
   "metadata": {
    "tags": []
   },
   "outputs": [],
   "source": [
    "pos = df.query('Z == 1')\n",
    "pos = pos.query('a == 8')"
   ]
  },
  {
   "cell_type": "code",
   "execution_count": 8,
   "metadata": {
    "tags": []
   },
   "outputs": [
    {
     "data": {
      "text/html": [
       "<div>\n",
       "<style scoped>\n",
       "    .dataframe tbody tr th:only-of-type {\n",
       "        vertical-align: middle;\n",
       "    }\n",
       "\n",
       "    .dataframe tbody tr th {\n",
       "        vertical-align: top;\n",
       "    }\n",
       "\n",
       "    .dataframe thead th {\n",
       "        text-align: right;\n",
       "    }\n",
       "</style>\n",
       "<table border=\"1\" class=\"dataframe\">\n",
       "  <thead>\n",
       "    <tr style=\"text-align: right;\">\n",
       "      <th></th>\n",
       "      <th>a</th>\n",
       "      <th>inc</th>\n",
       "      <th>Z</th>\n",
       "      <th>Num</th>\n",
       "      <th>E0</th>\n",
       "      <th>Eg</th>\n",
       "      <th>Bp</th>\n",
       "      <th>fi_orb</th>\n",
       "      <th>tet_orb</th>\n",
       "      <th>fi</th>\n",
       "      <th>tet</th>\n",
       "      <th>x0</th>\n",
       "      <th>y0</th>\n",
       "      <th>z0</th>\n",
       "      <th>x_det</th>\n",
       "      <th>y_det</th>\n",
       "      <th>x_det_pad</th>\n",
       "      <th>y_det_pad</th>\n",
       "    </tr>\n",
       "  </thead>\n",
       "  <tbody>\n",
       "    <tr>\n",
       "      <th>0</th>\n",
       "      <td>7.0</td>\n",
       "      <td>0.0</td>\n",
       "      <td>1.0</td>\n",
       "      <td>0.0</td>\n",
       "      <td>5.345</td>\n",
       "      <td>0.0000</td>\n",
       "      <td>0.2416</td>\n",
       "      <td>0.0</td>\n",
       "      <td>90.0</td>\n",
       "      <td>276.1860</td>\n",
       "      <td>48.5195</td>\n",
       "      <td>6.7717</td>\n",
       "      <td>-0.0007</td>\n",
       "      <td>-0.0001</td>\n",
       "      <td>-0.8157</td>\n",
       "      <td>0.3749</td>\n",
       "      <td>18.0</td>\n",
       "      <td>137.0</td>\n",
       "    </tr>\n",
       "    <tr>\n",
       "      <th>1</th>\n",
       "      <td>7.0</td>\n",
       "      <td>0.0</td>\n",
       "      <td>1.0</td>\n",
       "      <td>0.0</td>\n",
       "      <td>5.345</td>\n",
       "      <td>0.7823</td>\n",
       "      <td>0.2413</td>\n",
       "      <td>0.0</td>\n",
       "      <td>90.0</td>\n",
       "      <td>276.1860</td>\n",
       "      <td>48.5195</td>\n",
       "      <td>6.7770</td>\n",
       "      <td>-0.0067</td>\n",
       "      <td>-0.0007</td>\n",
       "      <td>-0.7755</td>\n",
       "      <td>0.4092</td>\n",
       "      <td>22.0</td>\n",
       "      <td>140.0</td>\n",
       "    </tr>\n",
       "    <tr>\n",
       "      <th>2</th>\n",
       "      <td>7.0</td>\n",
       "      <td>0.0</td>\n",
       "      <td>1.0</td>\n",
       "      <td>0.0</td>\n",
       "      <td>5.345</td>\n",
       "      <td>4.8142</td>\n",
       "      <td>0.2409</td>\n",
       "      <td>0.0</td>\n",
       "      <td>90.0</td>\n",
       "      <td>276.1860</td>\n",
       "      <td>48.5195</td>\n",
       "      <td>6.7823</td>\n",
       "      <td>-0.0127</td>\n",
       "      <td>-0.0014</td>\n",
       "      <td>-0.5312</td>\n",
       "      <td>0.3925</td>\n",
       "      <td>46.0</td>\n",
       "      <td>139.0</td>\n",
       "    </tr>\n",
       "    <tr>\n",
       "      <th>3</th>\n",
       "      <td>7.0</td>\n",
       "      <td>0.0</td>\n",
       "      <td>1.0</td>\n",
       "      <td>0.0</td>\n",
       "      <td>5.345</td>\n",
       "      <td>600.5468</td>\n",
       "      <td>0.2401</td>\n",
       "      <td>0.0</td>\n",
       "      <td>90.0</td>\n",
       "      <td>276.1860</td>\n",
       "      <td>48.5195</td>\n",
       "      <td>6.7862</td>\n",
       "      <td>-0.0171</td>\n",
       "      <td>-0.0019</td>\n",
       "      <td>-0.3575</td>\n",
       "      <td>0.2890</td>\n",
       "      <td>64.0</td>\n",
       "      <td>128.0</td>\n",
       "    </tr>\n",
       "    <tr>\n",
       "      <th>4</th>\n",
       "      <td>7.0</td>\n",
       "      <td>0.0</td>\n",
       "      <td>1.0</td>\n",
       "      <td>0.0</td>\n",
       "      <td>5.345</td>\n",
       "      <td>2.4765</td>\n",
       "      <td>0.2396</td>\n",
       "      <td>0.0</td>\n",
       "      <td>90.0</td>\n",
       "      <td>276.1860</td>\n",
       "      <td>48.5195</td>\n",
       "      <td>6.7902</td>\n",
       "      <td>-0.0216</td>\n",
       "      <td>-0.0023</td>\n",
       "      <td>0.0685</td>\n",
       "      <td>0.2812</td>\n",
       "      <td>106.0</td>\n",
       "      <td>128.0</td>\n",
       "    </tr>\n",
       "    <tr>\n",
       "      <th>...</th>\n",
       "      <td>...</td>\n",
       "      <td>...</td>\n",
       "      <td>...</td>\n",
       "      <td>...</td>\n",
       "      <td>...</td>\n",
       "      <td>...</td>\n",
       "      <td>...</td>\n",
       "      <td>...</td>\n",
       "      <td>...</td>\n",
       "      <td>...</td>\n",
       "      <td>...</td>\n",
       "      <td>...</td>\n",
       "      <td>...</td>\n",
       "      <td>...</td>\n",
       "      <td>...</td>\n",
       "      <td>...</td>\n",
       "      <td>...</td>\n",
       "      <td>...</td>\n",
       "    </tr>\n",
       "    <tr>\n",
       "      <th>1582224</th>\n",
       "      <td>5.0</td>\n",
       "      <td>0.0</td>\n",
       "      <td>1.0</td>\n",
       "      <td>299997.0</td>\n",
       "      <td>25.613</td>\n",
       "      <td>610.0252</td>\n",
       "      <td>0.1180</td>\n",
       "      <td>0.0</td>\n",
       "      <td>90.0</td>\n",
       "      <td>157.5433</td>\n",
       "      <td>51.5915</td>\n",
       "      <td>6.7896</td>\n",
       "      <td>0.0090</td>\n",
       "      <td>0.0217</td>\n",
       "      <td>-0.3553</td>\n",
       "      <td>0.4779</td>\n",
       "      <td>64.0</td>\n",
       "      <td>147.0</td>\n",
       "    </tr>\n",
       "    <tr>\n",
       "      <th>1582225</th>\n",
       "      <td>5.0</td>\n",
       "      <td>0.0</td>\n",
       "      <td>1.0</td>\n",
       "      <td>299997.0</td>\n",
       "      <td>25.613</td>\n",
       "      <td>2031.1881</td>\n",
       "      <td>0.1181</td>\n",
       "      <td>0.0</td>\n",
       "      <td>90.0</td>\n",
       "      <td>157.5433</td>\n",
       "      <td>51.5915</td>\n",
       "      <td>6.8002</td>\n",
       "      <td>0.0141</td>\n",
       "      <td>0.0340</td>\n",
       "      <td>-0.2175</td>\n",
       "      <td>0.6257</td>\n",
       "      <td>78.0</td>\n",
       "      <td>162.0</td>\n",
       "    </tr>\n",
       "    <tr>\n",
       "      <th>1582226</th>\n",
       "      <td>5.0</td>\n",
       "      <td>0.0</td>\n",
       "      <td>1.0</td>\n",
       "      <td>299997.0</td>\n",
       "      <td>25.613</td>\n",
       "      <td>26.6512</td>\n",
       "      <td>0.1182</td>\n",
       "      <td>0.0</td>\n",
       "      <td>90.0</td>\n",
       "      <td>157.5433</td>\n",
       "      <td>51.5915</td>\n",
       "      <td>6.8120</td>\n",
       "      <td>0.0198</td>\n",
       "      <td>0.0478</td>\n",
       "      <td>-0.0633</td>\n",
       "      <td>0.8679</td>\n",
       "      <td>93.0</td>\n",
       "      <td>186.0</td>\n",
       "    </tr>\n",
       "    <tr>\n",
       "      <th>1582227</th>\n",
       "      <td>2.0</td>\n",
       "      <td>0.0</td>\n",
       "      <td>1.0</td>\n",
       "      <td>299998.0</td>\n",
       "      <td>6.894</td>\n",
       "      <td>0.0000</td>\n",
       "      <td>0.2470</td>\n",
       "      <td>0.0</td>\n",
       "      <td>90.0</td>\n",
       "      <td>304.8320</td>\n",
       "      <td>25.0593</td>\n",
       "      <td>6.7719</td>\n",
       "      <td>-0.0003</td>\n",
       "      <td>-0.0002</td>\n",
       "      <td>0.0838</td>\n",
       "      <td>-0.5565</td>\n",
       "      <td>108.0</td>\n",
       "      <td>44.0</td>\n",
       "    </tr>\n",
       "    <tr>\n",
       "      <th>1582228</th>\n",
       "      <td>2.0</td>\n",
       "      <td>0.0</td>\n",
       "      <td>1.0</td>\n",
       "      <td>299998.0</td>\n",
       "      <td>6.894</td>\n",
       "      <td>0.9397</td>\n",
       "      <td>0.2445</td>\n",
       "      <td>0.0</td>\n",
       "      <td>90.0</td>\n",
       "      <td>304.8320</td>\n",
       "      <td>25.0593</td>\n",
       "      <td>6.7964</td>\n",
       "      <td>-0.0097</td>\n",
       "      <td>-0.0068</td>\n",
       "      <td>0.5068</td>\n",
       "      <td>-0.5144</td>\n",
       "      <td>150.0</td>\n",
       "      <td>48.0</td>\n",
       "    </tr>\n",
       "  </tbody>\n",
       "</table>\n",
       "<p>1582229 rows × 18 columns</p>\n",
       "</div>"
      ],
      "text/plain": [
       "           a  inc    Z       Num      E0         Eg      Bp  fi_orb  tet_orb  \\\n",
       "0        7.0  0.0  1.0       0.0   5.345     0.0000  0.2416     0.0     90.0   \n",
       "1        7.0  0.0  1.0       0.0   5.345     0.7823  0.2413     0.0     90.0   \n",
       "2        7.0  0.0  1.0       0.0   5.345     4.8142  0.2409     0.0     90.0   \n",
       "3        7.0  0.0  1.0       0.0   5.345   600.5468  0.2401     0.0     90.0   \n",
       "4        7.0  0.0  1.0       0.0   5.345     2.4765  0.2396     0.0     90.0   \n",
       "...      ...  ...  ...       ...     ...        ...     ...     ...      ...   \n",
       "1582224  5.0  0.0  1.0  299997.0  25.613   610.0252  0.1180     0.0     90.0   \n",
       "1582225  5.0  0.0  1.0  299997.0  25.613  2031.1881  0.1181     0.0     90.0   \n",
       "1582226  5.0  0.0  1.0  299997.0  25.613    26.6512  0.1182     0.0     90.0   \n",
       "1582227  2.0  0.0  1.0  299998.0   6.894     0.0000  0.2470     0.0     90.0   \n",
       "1582228  2.0  0.0  1.0  299998.0   6.894     0.9397  0.2445     0.0     90.0   \n",
       "\n",
       "               fi      tet      x0      y0      z0   x_det   y_det  x_det_pad  \\\n",
       "0        276.1860  48.5195  6.7717 -0.0007 -0.0001 -0.8157  0.3749       18.0   \n",
       "1        276.1860  48.5195  6.7770 -0.0067 -0.0007 -0.7755  0.4092       22.0   \n",
       "2        276.1860  48.5195  6.7823 -0.0127 -0.0014 -0.5312  0.3925       46.0   \n",
       "3        276.1860  48.5195  6.7862 -0.0171 -0.0019 -0.3575  0.2890       64.0   \n",
       "4        276.1860  48.5195  6.7902 -0.0216 -0.0023  0.0685  0.2812      106.0   \n",
       "...           ...      ...     ...     ...     ...     ...     ...        ...   \n",
       "1582224  157.5433  51.5915  6.7896  0.0090  0.0217 -0.3553  0.4779       64.0   \n",
       "1582225  157.5433  51.5915  6.8002  0.0141  0.0340 -0.2175  0.6257       78.0   \n",
       "1582226  157.5433  51.5915  6.8120  0.0198  0.0478 -0.0633  0.8679       93.0   \n",
       "1582227  304.8320  25.0593  6.7719 -0.0003 -0.0002  0.0838 -0.5565      108.0   \n",
       "1582228  304.8320  25.0593  6.7964 -0.0097 -0.0068  0.5068 -0.5144      150.0   \n",
       "\n",
       "         y_det_pad  \n",
       "0            137.0  \n",
       "1            140.0  \n",
       "2            139.0  \n",
       "3            128.0  \n",
       "4            128.0  \n",
       "...            ...  \n",
       "1582224      147.0  \n",
       "1582225      162.0  \n",
       "1582226      186.0  \n",
       "1582227       44.0  \n",
       "1582228       48.0  \n",
       "\n",
       "[1582229 rows x 18 columns]"
      ]
     },
     "execution_count": 8,
     "metadata": {},
     "output_type": "execute_result"
    }
   ],
   "source": [
    "df"
   ]
  },
  {
   "cell_type": "code",
   "execution_count": 9,
   "metadata": {
    "tags": []
   },
   "outputs": [],
   "source": [
    "df.iloc[:, 0]\n",
    "short_df = df[['Z', 'Num', 'Eg', 'x_det_pad', 'y_det_pad']]"
   ]
  },
  {
   "cell_type": "code",
   "execution_count": 10,
   "metadata": {
    "tags": []
   },
   "outputs": [
    {
     "data": {
      "text/html": [
       "<div>\n",
       "<style scoped>\n",
       "    .dataframe tbody tr th:only-of-type {\n",
       "        vertical-align: middle;\n",
       "    }\n",
       "\n",
       "    .dataframe tbody tr th {\n",
       "        vertical-align: top;\n",
       "    }\n",
       "\n",
       "    .dataframe thead th {\n",
       "        text-align: right;\n",
       "    }\n",
       "</style>\n",
       "<table border=\"1\" class=\"dataframe\">\n",
       "  <thead>\n",
       "    <tr style=\"text-align: right;\">\n",
       "      <th></th>\n",
       "      <th>Z</th>\n",
       "      <th>Num</th>\n",
       "      <th>Eg</th>\n",
       "      <th>x_det_pad</th>\n",
       "      <th>y_det_pad</th>\n",
       "    </tr>\n",
       "  </thead>\n",
       "  <tbody>\n",
       "    <tr>\n",
       "      <th>0</th>\n",
       "      <td>1.0</td>\n",
       "      <td>0.0</td>\n",
       "      <td>0.0000</td>\n",
       "      <td>18.0</td>\n",
       "      <td>137.0</td>\n",
       "    </tr>\n",
       "    <tr>\n",
       "      <th>1</th>\n",
       "      <td>1.0</td>\n",
       "      <td>0.0</td>\n",
       "      <td>0.7823</td>\n",
       "      <td>22.0</td>\n",
       "      <td>140.0</td>\n",
       "    </tr>\n",
       "    <tr>\n",
       "      <th>2</th>\n",
       "      <td>1.0</td>\n",
       "      <td>0.0</td>\n",
       "      <td>4.8142</td>\n",
       "      <td>46.0</td>\n",
       "      <td>139.0</td>\n",
       "    </tr>\n",
       "    <tr>\n",
       "      <th>3</th>\n",
       "      <td>1.0</td>\n",
       "      <td>0.0</td>\n",
       "      <td>600.5468</td>\n",
       "      <td>64.0</td>\n",
       "      <td>128.0</td>\n",
       "    </tr>\n",
       "    <tr>\n",
       "      <th>4</th>\n",
       "      <td>1.0</td>\n",
       "      <td>0.0</td>\n",
       "      <td>2.4765</td>\n",
       "      <td>106.0</td>\n",
       "      <td>128.0</td>\n",
       "    </tr>\n",
       "    <tr>\n",
       "      <th>5</th>\n",
       "      <td>1.0</td>\n",
       "      <td>0.0</td>\n",
       "      <td>29.7412</td>\n",
       "      <td>140.0</td>\n",
       "      <td>125.0</td>\n",
       "    </tr>\n",
       "    <tr>\n",
       "      <th>6</th>\n",
       "      <td>1.0</td>\n",
       "      <td>0.0</td>\n",
       "      <td>667.9211</td>\n",
       "      <td>193.0</td>\n",
       "      <td>119.0</td>\n",
       "    </tr>\n",
       "  </tbody>\n",
       "</table>\n",
       "</div>"
      ],
      "text/plain": [
       "     Z  Num        Eg  x_det_pad  y_det_pad\n",
       "0  1.0  0.0    0.0000       18.0      137.0\n",
       "1  1.0  0.0    0.7823       22.0      140.0\n",
       "2  1.0  0.0    4.8142       46.0      139.0\n",
       "3  1.0  0.0  600.5468       64.0      128.0\n",
       "4  1.0  0.0    2.4765      106.0      128.0\n",
       "5  1.0  0.0   29.7412      140.0      125.0\n",
       "6  1.0  0.0  667.9211      193.0      119.0"
      ]
     },
     "execution_count": 10,
     "metadata": {},
     "output_type": "execute_result"
    }
   ],
   "source": [
    "short_df.query('Num == 0')"
   ]
  },
  {
   "cell_type": "code",
   "execution_count": 11,
   "metadata": {
    "tags": []
   },
   "outputs": [],
   "source": [
    "def plot_clear_one_element(df, num):\n",
    "    fig, ax = plt.subplots()\n",
    "    plt.xlim(0,200)\n",
    "    plt.ylim(0,200)\n",
    "    df = df.query('Num == @num')\n",
    "    particle = df.query('Eg == 0')\n",
    "    df = df.drop(df[df.Eg == 0].index)\n",
    "    ax.scatter(df[['x_det_pad']], df[['y_det_pad']])\n",
    "    ax.scatter(particle[['x_det_pad']], particle[['y_det_pad']], facecolor='red')\n",
    "    return fig, ax\n"
   ]
  },
  {
   "cell_type": "code",
   "execution_count": 12,
   "metadata": {
    "tags": []
   },
   "outputs": [
    {
     "data": {
      "text/plain": [
       "(<Figure size 640x480 with 1 Axes>, <AxesSubplot:>)"
      ]
     },
     "execution_count": 12,
     "metadata": {},
     "output_type": "execute_result"
    },
    {
     "data": {
      "image/png": "[encoded data removed]",
      "text/plain": [
       "<Figure size 640x480 with 1 Axes>"
      ]
     },
     "metadata": {},
     "output_type": "display_data"
    }
   ],
   "source": [
    "plot_clear_one_element(short_df, 0)"
   ]
  },
  {
   "cell_type": "code",
   "execution_count": 13,
   "metadata": {
    "tags": []
   },
   "outputs": [
    {
     "data": {
      "text/plain": [
       "(<Figure size 640x480 with 1 Axes>,\n",
       " <AxesSubplot:>,\n",
       "     x_det_pad  y_det_pad\n",
       " 0          41        195\n",
       " 1          16         73\n",
       " 2          18        123\n",
       " 3         101        170\n",
       " 4          57         65\n",
       " 5          27        101\n",
       " 6         129        154\n",
       " 7          40         78\n",
       " 8          96         37\n",
       " 9          58         63\n",
       " 10        164         25\n",
       " 11         76        187\n",
       " 12        114        185\n",
       " 13         53         61)"
      ]
     },
     "execution_count": 13,
     "metadata": {},
     "output_type": "execute_result"
    },
    {
     "data": {
      "image/png": "[encoded data removed]",
      "text/plain": [
       "<Figure size 640x480 with 1 Axes>"
      ]
     },
     "metadata": {},
     "output_type": "display_data"
    }
   ],
   "source": [
    "def generate_uniform(df, num, size):\n",
    "    df = df.query('Num == @num')\n",
    "    particle = df.query('Eg == 0')\n",
    "    x = particle.iloc[0]['x_det_pad']\n",
    "    y = particle.iloc[0]['y_det_pad']\n",
    "    size_df = df.iloc[:, 0].size\n",
    "    xarr = uniform.rvs(scale = 199, size = size * size_df)\n",
    "    yarr = uniform.rvs(scale = 199, size = size * size_df)\n",
    "    return pd.DataFrame({'x_det_pad': xarr.astype(int), 'y_det_pad': yarr.astype(int)})\n",
    "generate_uniform(short_df, 0, 2)\n",
    "\n",
    "_PHOTON_NUM_SCALE = 2\n",
    "\n",
    "def plot_with_uniform_one_elemnet(df, num):\n",
    "    fig, ax = plot_clear_one_element(df, num)\n",
    "    noise = generate_uniform(df, num, _PHOTON_NUM_SCALE)\n",
    "    #print(noise)\n",
    "    ax.scatter(noise[['x_det_pad']], noise[['y_det_pad']], facecolor= 'green')\n",
    "    return fig, ax, noise\n",
    "\n",
    "plot_with_uniform_one_elemnet(short_df, 0)"
   ]
  },
  {
   "cell_type": "code",
   "execution_count": 14,
   "metadata": {
    "tags": []
   },
   "outputs": [
    {
     "data": {
      "text/html": [
       "<div>\n",
       "<style scoped>\n",
       "    .dataframe tbody tr th:only-of-type {\n",
       "        vertical-align: middle;\n",
       "    }\n",
       "\n",
       "    .dataframe tbody tr th {\n",
       "        vertical-align: top;\n",
       "    }\n",
       "\n",
       "    .dataframe thead th {\n",
       "        text-align: right;\n",
       "    }\n",
       "</style>\n",
       "<table border=\"1\" class=\"dataframe\">\n",
       "  <thead>\n",
       "    <tr style=\"text-align: right;\">\n",
       "      <th></th>\n",
       "      <th>x_det_pad</th>\n",
       "      <th>y_det_pad</th>\n",
       "    </tr>\n",
       "  </thead>\n",
       "  <tbody>\n",
       "    <tr>\n",
       "      <th>0</th>\n",
       "      <td>76</td>\n",
       "      <td>150</td>\n",
       "    </tr>\n",
       "    <tr>\n",
       "      <th>1</th>\n",
       "      <td>50</td>\n",
       "      <td>36</td>\n",
       "    </tr>\n",
       "    <tr>\n",
       "      <th>2</th>\n",
       "      <td>187</td>\n",
       "      <td>132</td>\n",
       "    </tr>\n",
       "    <tr>\n",
       "      <th>3</th>\n",
       "      <td>150</td>\n",
       "      <td>120</td>\n",
       "    </tr>\n",
       "    <tr>\n",
       "      <th>4</th>\n",
       "      <td>183</td>\n",
       "      <td>189</td>\n",
       "    </tr>\n",
       "    <tr>\n",
       "      <th>5</th>\n",
       "      <td>96</td>\n",
       "      <td>187</td>\n",
       "    </tr>\n",
       "    <tr>\n",
       "      <th>6</th>\n",
       "      <td>185</td>\n",
       "      <td>35</td>\n",
       "    </tr>\n",
       "    <tr>\n",
       "      <th>7</th>\n",
       "      <td>142</td>\n",
       "      <td>89</td>\n",
       "    </tr>\n",
       "    <tr>\n",
       "      <th>8</th>\n",
       "      <td>67</td>\n",
       "      <td>21</td>\n",
       "    </tr>\n",
       "    <tr>\n",
       "      <th>9</th>\n",
       "      <td>70</td>\n",
       "      <td>76</td>\n",
       "    </tr>\n",
       "    <tr>\n",
       "      <th>10</th>\n",
       "      <td>176</td>\n",
       "      <td>146</td>\n",
       "    </tr>\n",
       "    <tr>\n",
       "      <th>11</th>\n",
       "      <td>71</td>\n",
       "      <td>21</td>\n",
       "    </tr>\n",
       "    <tr>\n",
       "      <th>12</th>\n",
       "      <td>65</td>\n",
       "      <td>41</td>\n",
       "    </tr>\n",
       "    <tr>\n",
       "      <th>13</th>\n",
       "      <td>3</td>\n",
       "      <td>46</td>\n",
       "    </tr>\n",
       "  </tbody>\n",
       "</table>\n",
       "</div>"
      ],
      "text/plain": [
       "    x_det_pad  y_det_pad\n",
       "0          76        150\n",
       "1          50         36\n",
       "2         187        132\n",
       "3         150        120\n",
       "4         183        189\n",
       "5          96        187\n",
       "6         185         35\n",
       "7         142         89\n",
       "8          67         21\n",
       "9          70         76\n",
       "10        176        146\n",
       "11         71         21\n",
       "12         65         41\n",
       "13          3         46"
      ]
     },
     "execution_count": 14,
     "metadata": {},
     "output_type": "execute_result"
    }
   ],
   "source": [
    "test0noize = generate_uniform(short_df, 0, 2)\n",
    "test_df = short_df.query('Num == 0')\n",
    "test0noize"
   ]
  },
  {
   "cell_type": "code",
   "execution_count": 15,
   "metadata": {
    "tags": []
   },
   "outputs": [
    {
     "data": {
      "text/html": [
       "<div>\n",
       "<style scoped>\n",
       "    .dataframe tbody tr th:only-of-type {\n",
       "        vertical-align: middle;\n",
       "    }\n",
       "\n",
       "    .dataframe tbody tr th {\n",
       "        vertical-align: top;\n",
       "    }\n",
       "\n",
       "    .dataframe thead th {\n",
       "        text-align: right;\n",
       "    }\n",
       "</style>\n",
       "<table border=\"1\" class=\"dataframe\">\n",
       "  <thead>\n",
       "    <tr style=\"text-align: right;\">\n",
       "      <th></th>\n",
       "      <th>Z</th>\n",
       "      <th>Num</th>\n",
       "      <th>Eg</th>\n",
       "      <th>x_det_pad</th>\n",
       "      <th>y_det_pad</th>\n",
       "    </tr>\n",
       "  </thead>\n",
       "  <tbody>\n",
       "    <tr>\n",
       "      <th>0</th>\n",
       "      <td>1.0</td>\n",
       "      <td>0.0</td>\n",
       "      <td>0.0000</td>\n",
       "      <td>18.0</td>\n",
       "      <td>137.0</td>\n",
       "    </tr>\n",
       "    <tr>\n",
       "      <th>1</th>\n",
       "      <td>1.0</td>\n",
       "      <td>0.0</td>\n",
       "      <td>0.7823</td>\n",
       "      <td>22.0</td>\n",
       "      <td>140.0</td>\n",
       "    </tr>\n",
       "    <tr>\n",
       "      <th>2</th>\n",
       "      <td>1.0</td>\n",
       "      <td>0.0</td>\n",
       "      <td>4.8142</td>\n",
       "      <td>46.0</td>\n",
       "      <td>139.0</td>\n",
       "    </tr>\n",
       "    <tr>\n",
       "      <th>3</th>\n",
       "      <td>1.0</td>\n",
       "      <td>0.0</td>\n",
       "      <td>600.5468</td>\n",
       "      <td>64.0</td>\n",
       "      <td>128.0</td>\n",
       "    </tr>\n",
       "    <tr>\n",
       "      <th>4</th>\n",
       "      <td>1.0</td>\n",
       "      <td>0.0</td>\n",
       "      <td>2.4765</td>\n",
       "      <td>106.0</td>\n",
       "      <td>128.0</td>\n",
       "    </tr>\n",
       "    <tr>\n",
       "      <th>5</th>\n",
       "      <td>1.0</td>\n",
       "      <td>0.0</td>\n",
       "      <td>29.7412</td>\n",
       "      <td>140.0</td>\n",
       "      <td>125.0</td>\n",
       "    </tr>\n",
       "    <tr>\n",
       "      <th>6</th>\n",
       "      <td>1.0</td>\n",
       "      <td>0.0</td>\n",
       "      <td>667.9211</td>\n",
       "      <td>193.0</td>\n",
       "      <td>119.0</td>\n",
       "    </tr>\n",
       "    <tr>\n",
       "      <th>0</th>\n",
       "      <td>NaN</td>\n",
       "      <td>NaN</td>\n",
       "      <td>NaN</td>\n",
       "      <td>76.0</td>\n",
       "      <td>150.0</td>\n",
       "    </tr>\n",
       "    <tr>\n",
       "      <th>1</th>\n",
       "      <td>NaN</td>\n",
       "      <td>NaN</td>\n",
       "      <td>NaN</td>\n",
       "      <td>50.0</td>\n",
       "      <td>36.0</td>\n",
       "    </tr>\n",
       "    <tr>\n",
       "      <th>2</th>\n",
       "      <td>NaN</td>\n",
       "      <td>NaN</td>\n",
       "      <td>NaN</td>\n",
       "      <td>187.0</td>\n",
       "      <td>132.0</td>\n",
       "    </tr>\n",
       "    <tr>\n",
       "      <th>3</th>\n",
       "      <td>NaN</td>\n",
       "      <td>NaN</td>\n",
       "      <td>NaN</td>\n",
       "      <td>150.0</td>\n",
       "      <td>120.0</td>\n",
       "    </tr>\n",
       "    <tr>\n",
       "      <th>4</th>\n",
       "      <td>NaN</td>\n",
       "      <td>NaN</td>\n",
       "      <td>NaN</td>\n",
       "      <td>183.0</td>\n",
       "      <td>189.0</td>\n",
       "    </tr>\n",
       "    <tr>\n",
       "      <th>5</th>\n",
       "      <td>NaN</td>\n",
       "      <td>NaN</td>\n",
       "      <td>NaN</td>\n",
       "      <td>96.0</td>\n",
       "      <td>187.0</td>\n",
       "    </tr>\n",
       "    <tr>\n",
       "      <th>6</th>\n",
       "      <td>NaN</td>\n",
       "      <td>NaN</td>\n",
       "      <td>NaN</td>\n",
       "      <td>185.0</td>\n",
       "      <td>35.0</td>\n",
       "    </tr>\n",
       "    <tr>\n",
       "      <th>7</th>\n",
       "      <td>NaN</td>\n",
       "      <td>NaN</td>\n",
       "      <td>NaN</td>\n",
       "      <td>142.0</td>\n",
       "      <td>89.0</td>\n",
       "    </tr>\n",
       "    <tr>\n",
       "      <th>8</th>\n",
       "      <td>NaN</td>\n",
       "      <td>NaN</td>\n",
       "      <td>NaN</td>\n",
       "      <td>67.0</td>\n",
       "      <td>21.0</td>\n",
       "    </tr>\n",
       "    <tr>\n",
       "      <th>9</th>\n",
       "      <td>NaN</td>\n",
       "      <td>NaN</td>\n",
       "      <td>NaN</td>\n",
       "      <td>70.0</td>\n",
       "      <td>76.0</td>\n",
       "    </tr>\n",
       "    <tr>\n",
       "      <th>10</th>\n",
       "      <td>NaN</td>\n",
       "      <td>NaN</td>\n",
       "      <td>NaN</td>\n",
       "      <td>176.0</td>\n",
       "      <td>146.0</td>\n",
       "    </tr>\n",
       "    <tr>\n",
       "      <th>11</th>\n",
       "      <td>NaN</td>\n",
       "      <td>NaN</td>\n",
       "      <td>NaN</td>\n",
       "      <td>71.0</td>\n",
       "      <td>21.0</td>\n",
       "    </tr>\n",
       "    <tr>\n",
       "      <th>12</th>\n",
       "      <td>NaN</td>\n",
       "      <td>NaN</td>\n",
       "      <td>NaN</td>\n",
       "      <td>65.0</td>\n",
       "      <td>41.0</td>\n",
       "    </tr>\n",
       "    <tr>\n",
       "      <th>13</th>\n",
       "      <td>NaN</td>\n",
       "      <td>NaN</td>\n",
       "      <td>NaN</td>\n",
       "      <td>3.0</td>\n",
       "      <td>46.0</td>\n",
       "    </tr>\n",
       "  </tbody>\n",
       "</table>\n",
       "</div>"
      ],
      "text/plain": [
       "      Z  Num        Eg  x_det_pad  y_det_pad\n",
       "0   1.0  0.0    0.0000       18.0      137.0\n",
       "1   1.0  0.0    0.7823       22.0      140.0\n",
       "2   1.0  0.0    4.8142       46.0      139.0\n",
       "3   1.0  0.0  600.5468       64.0      128.0\n",
       "4   1.0  0.0    2.4765      106.0      128.0\n",
       "5   1.0  0.0   29.7412      140.0      125.0\n",
       "6   1.0  0.0  667.9211      193.0      119.0\n",
       "0   NaN  NaN       NaN       76.0      150.0\n",
       "1   NaN  NaN       NaN       50.0       36.0\n",
       "2   NaN  NaN       NaN      187.0      132.0\n",
       "3   NaN  NaN       NaN      150.0      120.0\n",
       "4   NaN  NaN       NaN      183.0      189.0\n",
       "5   NaN  NaN       NaN       96.0      187.0\n",
       "6   NaN  NaN       NaN      185.0       35.0\n",
       "7   NaN  NaN       NaN      142.0       89.0\n",
       "8   NaN  NaN       NaN       67.0       21.0\n",
       "9   NaN  NaN       NaN       70.0       76.0\n",
       "10  NaN  NaN       NaN      176.0      146.0\n",
       "11  NaN  NaN       NaN       71.0       21.0\n",
       "12  NaN  NaN       NaN       65.0       41.0\n",
       "13  NaN  NaN       NaN        3.0       46.0"
      ]
     },
     "execution_count": 15,
     "metadata": {},
     "output_type": "execute_result"
    }
   ],
   "source": [
    "pd.concat([test_df, test0noize])"
   ]
  },
  {
   "cell_type": "code",
   "execution_count": 16,
   "metadata": {
    "tags": []
   },
   "outputs": [
    {
     "data": {
      "text/plain": [
       "21"
      ]
     },
     "execution_count": 16,
     "metadata": {},
     "output_type": "execute_result"
    }
   ],
   "source": [
    "pd.concat([test_df, test0noize]).iloc[:, 0].size"
   ]
  },
  {
   "cell_type": "code",
   "execution_count": 17,
   "metadata": {
    "tags": []
   },
   "outputs": [
    {
     "data": {
      "text/plain": [
       "True"
      ]
     },
     "execution_count": 17,
     "metadata": {},
     "output_type": "execute_result"
    }
   ],
   "source": [
    "def point_belongs_to_semiplane(x0,y0,x1,y1,px,py):\n",
    "    #return np.dot([px-x0, py-y0],[x1-x0, y1-y0]) * np.dot([px,py], [x1-x0, y1-y0])\n",
    "    return np.cross([x1-x0, y1-y0], [px-x0,py-y0]) >= 0\n",
    "# / Length(x1-x0, y1-y0)\n",
    "\n",
    "point_belongs_to_semiplane(0,0,1,1,5,7)"
   ]
  },
  {
   "cell_type": "code",
   "execution_count": 18,
   "metadata": {
    "tags": []
   },
   "outputs": [],
   "source": [
    "def plot_with_line(df, num, alpha, width):   \n",
    "    df = df.query('Num == @num')\n",
    "    particle = df.query('Eg == 0')\n",
    "    x0 = float(particle.iloc[0]['x_det_pad'])\n",
    "    y0 = float(particle.iloc[0]['y_det_pad'])\n",
    "       \n",
    "    x1 = x0 + np.cos(alpha)\n",
    "    y1 = y0 + np.sin(alpha)\n",
    "    \n",
    "    width_x = - width * np.sin(alpha)\n",
    "    width_y = width * np.cos(alpha)\n",
    "    \n",
    "    fig, ax, noise =  plot_with_uniform_one_elemnet(df, num)\n",
    "    \n",
    "    df_and_noise = pd.concat([df, noise])\n",
    "    \n",
    "    size_df_and_noise = df_and_noise.iloc[:, 0].size\n",
    "    \n",
    "    #df_and_noise.where(point_belongs_to_semiplane(x1 + width_x, y1 + width_y,x2 + width_x, y2 + width_y, df_and_noise['x_det_pad'], df_and_noise['y_det_pad']))\n",
    "    count = 0\n",
    "    for i in range(0, size_df_and_noise):\n",
    "        x = df_and_noise.iloc[i]['x_det_pad']\n",
    "        y = df_and_noise.iloc[i]['y_det_pad']\n",
    "        if (not point_belongs_to_semiplane(x0 + width_x, y0 + width_y,x1 + width_x, y1 + width_y, x, y) and\n",
    "            point_belongs_to_semiplane(x0 - width_x, y0 - width_y,x1 - width_x, y1 - width_y, x, y) and\n",
    "            not point_belongs_to_semiplane(x0 - width_x, y0 - width_y, x1 + width_x, y1 + width_y, x, y)\n",
    "           ):\n",
    "            count+=1\n",
    "            ax.scatter(x,y, facecolor='yellow')\n",
    "    \n",
    "    print(count)  \n",
    "    \n",
    "    #plt.axline((x1, y1), (x2,y2), linestyle='-')\n",
    "    plt.axline((x0 + width_x, y0 + width_y), (x1 + width_x, y1 + width_y), linestyle='--')\n",
    "    plt.axline((x0 - width_x, y0 - width_y), (x1 - width_x, y1 - width_y), linestyle='--')\n",
    "    plt.axline((x0 + width_x, y0 + width_y), (x1 - width_x, y1 - width_y), linestyle='--')"
   ]
  },
  {
   "cell_type": "code",
   "execution_count": 19,
   "metadata": {
    "tags": []
   },
   "outputs": [
    {
     "name": "stdout",
     "output_type": "stream",
     "text": [
      "5\n"
     ]
    },
    {
     "data": {
      "image/png": "[encoded data removed]",
      "text/plain": [
       "<Figure size 640x480 with 1 Axes>"
      ]
     },
     "metadata": {},
     "output_type": "display_data"
    }
   ],
   "source": [
    "#plot_with_line(short_df, 0, -np.pi/2, 9.0)\n",
    "plot_with_line(short_df, 0, 0, 9)"
   ]
  },
  {
   "cell_type": "code",
   "execution_count": 20,
   "metadata": {
    "tags": []
   },
   "outputs": [
    {
     "name": "stdout",
     "output_type": "stream",
     "text": [
      "0\n",
      "1\n",
      "2\n",
      "3\n",
      "4\n",
      "5\n",
      "6\n",
      "7\n",
      "8\n",
      "9\n"
     ]
    }
   ],
   "source": [
    "def find_count_for_line(df, num, alpha, width):   \n",
    "    df = df.query('Num == @num')\n",
    "    particle = df.query('Eg == 0')\n",
    "    x1 = particle.iloc[0]['x_det_pad']\n",
    "    y1 = particle.iloc[0]['y_det_pad']\n",
    "for i in range(0, 10):\n",
    "    print(i)"
   ]
  },
  {
   "cell_type": "code",
   "execution_count": 21,
   "metadata": {
    "tags": []
   },
   "outputs": [],
   "source": [
    "def count_points_in_lines(df, x0, y0, alpha, width):         \n",
    "    x1 = x0 + np.cos(alpha)\n",
    "    y1 = y0 + np.sin(alpha)\n",
    "    \n",
    "    width_x = - width * np.sin(alpha)\n",
    "    width_y = width * np.cos(alpha)\n",
    "       \n",
    "    size_df = df.iloc[:, 0].size\n",
    "    \n",
    "    count = 0\n",
    "    for i in range(0, size_df):\n",
    "        x = df.iloc[i]['x_det_pad']\n",
    "        y = df.iloc[i]['y_det_pad']\n",
    "        if (not point_belongs_to_semiplane(x0 + width_x, y0 + width_y,x1 + width_x, y1 + width_y, x, y) and\n",
    "            point_belongs_to_semiplane(x0 - width_x, y0 - width_y,x1 - width_x, y1 - width_y, x, y) and\n",
    "            not point_belongs_to_semiplane(x0 - width_x, y0 - width_y, x1 + width_x, y1 + width_y, x, y)\n",
    "           ):\n",
    "            count+=1\n",
    "            #ax.scatter(x,y, facecolor='yellow')\n",
    "    \n",
    "    return count"
   ]
  },
  {
   "cell_type": "code",
   "execution_count": 22,
   "metadata": {
    "tags": []
   },
   "outputs": [],
   "source": [
    "def count_max_alpha(df, num, width):   \n",
    "    df = df.query('Num == @num')\n",
    "    particle = df.query('Eg == 0')\n",
    "    x0 = float(particle.iloc[0]['x_det_pad'])\n",
    "    y0 = float(particle.iloc[0]['y_det_pad'])\n",
    "    \n",
    "    noise = generate_uniform(df, num, 2)\n",
    "    \n",
    "    df_and_noise = pd.concat([df, noise])\n",
    "    alpha_max=0\n",
    "    cmax = 0\n",
    "    for alpha in np.arange(0, 2*np.pi, 2*np.pi/72):\n",
    "        \n",
    "        c = count_points_in_lines(df_and_noise, x0, y0, alpha, width)\n",
    "        if c>cmax:\n",
    "            cmax=c\n",
    "            alpha_max = alpha\n",
    "    \n",
    "    plot_with_line(short_df, num, alpha_max, width)\n",
    "    return(alpha_max)"
   ]
  },
  {
   "cell_type": "code",
   "execution_count": 23,
   "metadata": {
    "tags": []
   },
   "outputs": [
    {
     "name": "stdout",
     "output_type": "stream",
     "text": [
      "6\n"
     ]
    },
    {
     "data": {
      "text/plain": [
       "2.8797932657906435"
      ]
     },
     "execution_count": 23,
     "metadata": {},
     "output_type": "execute_result"
    },
    {
     "data": {
      "image/png": "[encoded data removed]",
      "text/plain": [
       "<Figure size 640x480 with 1 Axes>"
      ]
     },
     "metadata": {},
     "output_type": "display_data"
    }
   ],
   "source": [
    "count_max_alpha(df, 1,9)"
   ]
  },
  {
   "cell_type": "code",
   "execution_count": null,
   "metadata": {},
   "outputs": [],
   "source": []
  },
  {
   "cell_type": "code",
   "execution_count": null,
   "metadata": {},
   "outputs": [],
   "source": []
  },
  {
   "cell_type": "code",
   "execution_count": null,
   "metadata": {},
   "outputs": [],
   "source": []
  }
 ],
 "metadata": {
  "kernelspec": {
   "display_name": "Python 3 (ipykernel)",
   "language": "python",
   "name": "python3"
  },
  "language_info": {
   "codemirror_mode": {
    "name": "ipython",
    "version": 3
   },
   "file_extension": ".py",
   "mimetype": "text/x-python",
   "name": "python",
   "nbconvert_exporter": "python",
   "pygments_lexer": "ipython3",
   "version": "3.9.13"
  }
 },
 "nbformat": 4,
 "nbformat_minor": 4
}
